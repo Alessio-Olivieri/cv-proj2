{
 "cells": [
  {
   "cell_type": "code",
   "execution_count": 1,
   "id": "46eca436-0a28-406a-8836-af84198ef131",
   "metadata": {},
   "outputs": [],
   "source": [
    "!pip install pillow -q\n",
    "!pip install datasets -q\n",
    "!pip install torch -q\n",
    "!pip install torchvision -q\n",
    "!pip install matplotlib -q\n",
    "!pip install datasets -q\n",
    "!pip install torchmetrics -q\n",
    "!pip install timm -q"
   ]
  },
  {
   "cell_type": "code",
   "execution_count": 2,
   "id": "b5cbaaa0-46f0-4211-aa7a-8b3a4ae78297",
   "metadata": {},
   "outputs": [],
   "source": [
    "from datasets import load_dataset\n",
    "import PIL\n",
    "import torch\n",
    "from torchvision.transforms import v2\n",
    "import numpy as np\n",
    "import matplotlib.pyplot as plt\n",
    "import torchvision\n",
    "import os\n",
    "import timm\n",
    "from timm.loss import SoftTargetCrossEntropy\n",
    "import pickle\n",
    "from torch.utils.tensorboard import SummaryWriter\n",
    "from tqdm import tqdm"
   ]
  },
  {
   "cell_type": "markdown",
   "id": "4bb95892-d819-4bfa-a632-828bd46d2efe",
   "metadata": {},
   "source": [
    "# Global"
   ]
  },
  {
   "cell_type": "code",
   "execution_count": 3,
   "id": "c603faa5-4728-4fcd-a087-9bd2d85b4082",
   "metadata": {},
   "outputs": [],
   "source": [
    "torch.backends.cudnn.benchmark = True\n",
    "\n",
    "NUM_CLASSES = 200\n",
    "BATCH_SIZE = 64  \n",
    "NUM_EPOCHS = 10  \n",
    "LEARNING_RATE = 1e-4  \n",
    "WEIGHT_DECAY = 0.01  \n",
    "IMAGE_SIZE = 384\n",
    "LOG_INTERVAL = 100 \n",
    "DATA_DIR = \"data/\"\n",
    "MODEL_DIRS = DATA_DIR+\"models/\"\n",
    "TRAIN_DATA = DATA_DIR+\"train.pkl\"\n",
    "VALID_DATA = DATA_DIR+\"valid.pkl\""
   ]
  },
  {
   "cell_type": "markdown",
   "id": "bec2cd04-77f8-4563-9ce7-5befb5e72955",
   "metadata": {},
   "source": [
    "# Utils"
   ]
  },
  {
   "cell_type": "code",
   "execution_count": 4,
   "id": "b71f3609-35e8-4aa6-aba7-c9aef1ca5d71",
   "metadata": {},
   "outputs": [],
   "source": [
    "class TorchDatasetWrapper(torch.utils.data.Dataset):\n",
    "    def __init__(self, hf_dataset, transform=None):\n",
    "        self.hf_dataset = hf_dataset\n",
    "        self.transform=transform\n",
    "\n",
    "    def __repr__(self):\n",
    "        return str(self.hf_dataset)\n",
    "\n",
    "    def __len__(self):\n",
    "        return len(self.hf_dataset)\n",
    "\n",
    "    def __getitem__(self, idx):\n",
    "        example = self.hf_dataset[idx]\n",
    "        image = example['image']\n",
    "        if self.transform:\n",
    "            image =  self.transform(image)\n",
    "        return image, example['label']"
   ]
  },
  {
   "cell_type": "code",
   "execution_count": 5,
   "id": "d3d206d0-9a4f-4659-bac6-9e7230608f2a",
   "metadata": {},
   "outputs": [],
   "source": [
    "def gen_super_tiny(dataset, split, q=10, p=0, step=500, classes=200):\n",
    "    from datasets import Dataset\n",
    "    images_per_class = {\"validation\":50,\n",
    "                       \"test\":50,\n",
    "                       \"train\":500\n",
    "                       }\n",
    "    dataset_length = images_per_class[split]*classes\n",
    "    t = [dataset[p+i:i+q] for i in range(0, dataset_length-q, step)]\n",
    "    all_images = [image for image_class_dict in t for image in image_class_dict[\"image\"]]\n",
    "    all_labels = [image for image_class_dict in t for image in image_class_dict[\"label\"]]\n",
    "    return Dataset.from_dict({\"image\":all_images, \"label\":all_labels})"
   ]
  },
  {
   "cell_type": "code",
   "execution_count": 110,
   "id": "72b3974c-7047-41a7-aaaa-fa08c97a5cb5",
   "metadata": {},
   "outputs": [],
   "source": [
    "def print_patches(image_unfolded):\n",
    "    import matplotlib.pyplot as plt\n",
    "    from torchvision.utils import make_grid\n",
    "    visualize = v2.Compose([v2.ToPILImage(), v2.Resize((100,100))])\n",
    "    if len(image_unfolded.shape) == 5:\n",
    "        image_unfolded = image_unfolded[None,:,:,:,:,:]\n",
    "    for i in range(image_unfolded.shape[0]):\n",
    "        n_channels, n_patches_h, n_patches_w, h, w = image_unfolded.shape[1:]\n",
    "        patches = image_unfolded[i].permute(1, 2, 0, 3, 4).reshape(-1, n_channels, h, w)\n",
    "        for patch in patches:\n",
    "            visualize(patch).show()"
   ]
  },
  {
   "cell_type": "code",
   "execution_count": null,
   "id": "eb33afa5-99b6-45f6-bfc0-cb2d39868d59",
   "metadata": {},
   "outputs": [],
   "source": []
  },
  {
   "cell_type": "markdown",
   "id": "e0791ca8-108e-4019-93e6-96377f173a9a",
   "metadata": {},
   "source": [
    "# Data"
   ]
  },
  {
   "cell_type": "markdown",
   "id": "59e91ab4-29ce-4b2a-b89f-72ac6147a628",
   "metadata": {},
   "source": [
    "Loading dataset"
   ]
  },
  {
   "cell_type": "code",
   "execution_count": 6,
   "id": "c2b8b7d1-3f13-46ba-b76f-c30dc15e6b29",
   "metadata": {},
   "outputs": [],
   "source": [
    "try:\n",
    "    train_dataset = pickle.load(open(TRAIN_DATA,\"rb\"))\n",
    "    valid_dataset = pickle.load(open(VALID_DATA,\"rb\"))\n",
    "except:\n",
    "    train_dataset = load_dataset('Maysee/tiny-imagenet', split='train')\n",
    "    valid_dataset = load_dataset('Maysee/tiny-imagenet', split='valid')\n",
    "    pickle.dump(train_dataset, open(TRAIN_DATA,\"wb\"))\n",
    "    pickle.dump(valid_dataset, open(VALID_DATA,\"wb\"))"
   ]
  },
  {
   "cell_type": "markdown",
   "id": "80a43dfb-ea56-4afe-ad16-f7676c0870f9",
   "metadata": {},
   "source": [
    "#### Data Augmentation and Transformations"
   ]
  },
  {
   "cell_type": "code",
   "execution_count": 225,
   "id": "90ffe13b-7bb5-4c32-b804-288f7e7a1cda",
   "metadata": {},
   "outputs": [],
   "source": [
    "transform_train = v2.Compose([\n",
    "    v2.Lambda(lambda x: x.convert('RGB')),  # some images are in grayscale\n",
    "    v2.ToImage(), \n",
    "    v2.ToDtype(torch.float32, scale=True),\n",
    "    v2.RandomHorizontalFlip(),\n",
    "    v2.RandAugment(),\n",
    "    v2.Normalize(mean=[0.485, 0.456, 0.406], std=[0.229, 0.224, 0.225]),\n",
    "    v2.RandomErasing(p=0.25),\n",
    "\n",
    "])\n",
    "\n",
    "transform_valid = v2.Compose([\n",
    "    v2.Lambda(lambda x: x.convert('RGB')),  # some images are in grayscale\n",
    "    v2.ToImage(), \n",
    "    v2.ToDtype(torch.float32, scale=True),\n",
    "    v2.Normalize((0.485, 0.456, 0.406), (0.229, 0.224, 0.225)),\n",
    "])"
   ]
  },
  {
   "cell_type": "code",
   "execution_count": 298,
   "id": "0cf77fc6-284b-4d28-8c1b-569e78d3c47c",
   "metadata": {},
   "outputs": [
    {
     "data": {
      "text/plain": [
       "[tensor([[[[ 2.0777,  2.1290,  2.1462,  ...,  2.2318,  2.2318,  2.2318],\n",
       "           [ 2.1633,  2.1462,  2.1633,  ...,  2.2318,  2.2318,  2.2318],\n",
       "           [ 2.1975,  2.1975,  2.1633,  ...,  2.2147,  2.2147,  2.2147],\n",
       "           ...,\n",
       "           [ 1.2728,  1.9578,  2.2318,  ...,  1.6838,  1.6667,  1.5982],\n",
       "           [ 2.0434,  2.0777,  1.8037,  ...,  2.1462,  2.1119,  1.9920],\n",
       "           [ 2.0092,  1.9407,  2.0263,  ...,  2.2318,  2.2318,  2.1975]],\n",
       " \n",
       "          [[ 2.4111,  2.4111,  2.4286,  ...,  2.4111,  2.4111,  2.4111],\n",
       "           [ 2.4286,  2.4286,  2.4111,  ...,  2.4111,  2.4111,  2.4111],\n",
       "           [ 2.4286,  2.4286,  2.4111,  ...,  2.3936,  2.3936,  2.3936],\n",
       "           ...,\n",
       "           [ 1.4482,  2.1485,  2.4286,  ...,  1.8508,  1.8333,  1.7633],\n",
       "           [ 2.4286,  2.4286,  2.1835,  ...,  2.3235,  2.2885,  2.2185],\n",
       "           [ 2.4286,  2.4286,  2.4286,  ...,  2.4111,  2.4111,  2.4286]],\n",
       " \n",
       "          [[ 2.5703,  2.5877,  2.6051,  ...,  2.6226,  2.6226,  2.6226],\n",
       "           [ 2.6226,  2.6051,  2.6051,  ...,  2.6226,  2.6226,  2.6226],\n",
       "           [ 2.6400,  2.6400,  2.6051,  ...,  2.6051,  2.6051,  2.6051],\n",
       "           ...,\n",
       "           [ 1.6988,  2.3960,  2.6400,  ...,  2.2391,  2.2217,  2.1520],\n",
       "           [ 2.6400,  2.6400,  2.3263,  ...,  2.6400,  2.6400,  2.5877],\n",
       "           [ 2.6400,  2.6051,  2.6400,  ...,  2.6400,  2.6400,  2.6400]]],\n",
       " \n",
       " \n",
       "         [[[ 0.6906,  0.6734,  0.6392,  ...,  0.5022,  0.5193,  0.5878],\n",
       "           [ 0.6734,  0.6563,  0.6392,  ...,  0.5536,  0.6221,  0.6906],\n",
       "           [ 0.8618,  0.8447,  0.8104,  ...,  0.4851,  0.5022,  0.5193],\n",
       "           ...,\n",
       "           [ 0.3309,  0.3652,  0.3994,  ...,  0.5022,  0.3138,  0.1083],\n",
       "           [ 0.3481,  0.3823,  0.4166,  ...,  0.6049,  0.4337,  0.1768],\n",
       "           [ 0.2624,  0.2967,  0.3652,  ...,  0.6734,  0.5193,  0.2282]],\n",
       " \n",
       "          [[ 1.0630,  1.0455,  1.0105,  ...,  0.8354,  0.8529,  0.9230],\n",
       "           [ 1.0455,  1.0280,  1.0105,  ...,  0.8880,  0.9580,  1.0280],\n",
       "           [ 1.2381,  1.2206,  1.1856,  ...,  0.8179,  0.8354,  0.8529],\n",
       "           ...,\n",
       "           [ 0.6779,  0.7129,  0.7479,  ...,  0.8704,  0.6954,  0.4853],\n",
       "           [ 0.6954,  0.7304,  0.7654,  ...,  0.9755,  0.8004,  0.5378],\n",
       "           [ 0.6078,  0.6429,  0.7129,  ...,  1.0455,  0.8880,  0.6429]],\n",
       " \n",
       "          [[ 1.1237,  1.1062,  1.0714,  ...,  0.7576,  0.7751,  0.8448],\n",
       "           [ 1.1062,  1.0888,  1.0714,  ...,  0.8099,  0.8797,  0.9494],\n",
       "           [ 1.2980,  1.2805,  1.2457,  ...,  0.7402,  0.7576,  0.7751],\n",
       "           ...,\n",
       "           [ 0.5136,  0.5485,  0.6182,  ...,  0.9145,  0.6879,  0.4788],\n",
       "           [ 0.5311,  0.5659,  0.6356,  ...,  1.0191,  0.8448,  0.5834],\n",
       "           [ 0.4439,  0.4788,  0.5834,  ...,  1.1062,  0.9319,  0.6705]]],\n",
       " \n",
       " \n",
       "         [[[-1.7240, -1.7412, -1.7754,  ..., -0.8507, -1.1418, -1.6042],\n",
       "           [-1.6727, -1.6727, -1.6898,  ..., -1.1075, -1.3302, -1.3644],\n",
       "           [-1.6555, -1.6555, -1.6384,  ..., -1.2617, -1.3987, -1.2959],\n",
       "           ...,\n",
       "           [-1.3815, -1.4500, -1.5014,  ..., -1.3130, -1.2617, -1.2617],\n",
       "           [-1.3815, -1.3987, -1.4500,  ..., -1.3644, -1.3302, -1.2959],\n",
       "           [-1.1589, -1.2103, -1.3130,  ..., -1.5014, -1.5185, -1.4843]],\n",
       " \n",
       "          [[-1.6681, -1.6856, -1.7206,  ..., -0.7577, -1.0903, -1.5630],\n",
       "           [-1.6155, -1.6155, -1.6331,  ..., -1.0203, -1.2479, -1.3179],\n",
       "           [-1.5980, -1.5980, -1.5805,  ..., -1.1779, -1.3179, -1.2129],\n",
       "           ...,\n",
       "           [-0.9678, -1.0378, -1.0903,  ..., -0.8277, -0.7752, -0.7752],\n",
       "           [-0.9678, -0.9853, -1.0028,  ..., -0.8803, -0.8452, -0.8102],\n",
       "           [-0.7402, -0.7927, -0.8627,  ..., -1.0203, -1.0378, -1.0028]],\n",
       " \n",
       "          [[-1.0550, -1.0724, -1.1247,  ..., -0.2184, -0.5321, -1.0027],\n",
       "           [-1.0027, -1.0027, -1.0376,  ..., -0.4798, -0.7064, -0.7587],\n",
       "           [-0.9853, -0.9853, -0.9853,  ..., -0.6367, -0.7761, -0.6715],\n",
       "           ...,\n",
       "           [-0.0790, -0.1487, -0.2010,  ...,  0.0431,  0.0953,  0.0953],\n",
       "           [-0.0790, -0.0964, -0.1312,  ..., -0.0092,  0.0256,  0.0605],\n",
       "           [ 0.1476,  0.0953,  0.0082,  ..., -0.1487, -0.1661, -0.1312]]],\n",
       " \n",
       " \n",
       "         ...,\n",
       " \n",
       " \n",
       "         [[[-1.2617, -1.3644, -1.3302,  ..., -1.1932, -0.1143,  0.3481],\n",
       "           [-1.5185, -1.5014, -1.4158,  ..., -1.6042, -1.5699,  0.0398],\n",
       "           [-0.9877, -1.2445, -1.5357,  ..., -1.7240, -1.9467, -1.7240],\n",
       "           ...,\n",
       "           [-0.2171, -0.2513, -0.8507,  ...,  0.2282, -1.2617, -1.6555],\n",
       "           [ 0.0569,  0.1254, -0.5938,  ..., -0.1657, -0.6281, -0.9534],\n",
       "           [ 0.4166,  0.1597, -0.0972,  ...,  0.1939,  0.6392,  0.8276]],\n",
       " \n",
       "          [[-1.2129, -1.3004, -1.2654,  ..., -1.1779, -0.0399,  0.4503],\n",
       "           [-1.4930, -1.4580, -1.3704,  ..., -1.6331, -1.5630,  0.1001],\n",
       "           [-0.9328, -1.2129, -1.4930,  ..., -1.7556, -1.9657, -1.7206],\n",
       "           ...,\n",
       "           [-0.3200, -0.3025, -0.9153,  ..., -0.0924, -1.6331, -2.0357],\n",
       "           [-0.0574,  0.0651, -0.6702,  ..., -0.4251, -0.9153, -1.2654],\n",
       "           [ 0.3102,  0.1001, -0.1625,  ..., -0.0224,  0.4153,  0.5903]],\n",
       " \n",
       "          [[-1.8044, -1.8044, -1.7173,  ..., -1.8044, -1.0201, -0.6715],\n",
       "           [-1.8044, -1.8044, -1.7522,  ..., -1.8044, -1.8044, -0.7761],\n",
       "           [-1.4210, -1.6302, -1.8044,  ..., -1.8044, -1.8044, -1.8044],\n",
       "           ...,\n",
       "           [-1.3164, -1.3164, -1.8044,  ..., -0.5147, -1.8044, -1.8044],\n",
       "           [-0.9678, -0.8633, -1.5953,  ..., -0.8458, -1.2293, -1.4907],\n",
       "           [-0.5670, -0.7936, -1.0898,  ..., -0.4101,  0.1302,  0.3916]]],\n",
       " \n",
       " \n",
       "         [[[-1.2788, -1.6898, -2.0494,  ..., -0.6281, -0.4568, -0.6452],\n",
       "           [-0.8335, -1.8268, -1.7069,  ..., -0.5424, -0.3369, -1.1589],\n",
       "           [-0.1999, -1.2103, -0.8678,  ..., -0.4911, -0.1143, -1.3987],\n",
       "           ...,\n",
       "           [ 0.3481, -1.0219, -0.4568,  ...,  0.6906,  1.3413,  1.8208],\n",
       "           [ 0.3138, -0.6965,  0.0741,  ...,  0.4508,  1.2385,  1.3584],\n",
       "           [ 0.4851, -0.7993,  0.0912,  ...,  0.2967,  1.0673,  0.7591]],\n",
       " \n",
       "          [[-0.4076, -1.1429, -1.8081,  ..., -1.1954, -0.9503, -1.1078],\n",
       "           [-0.0049, -1.3880, -1.6681,  ..., -0.8803, -0.6001, -1.3880],\n",
       "           [ 0.5028, -0.9328, -1.0728,  ..., -0.4426, -0.0224, -1.3179],\n",
       "           ...,\n",
       "           [-0.1800, -1.5805, -0.9328,  ...,  0.5553,  1.1681,  1.6232],\n",
       "           [-0.2675, -1.2829, -0.4776,  ...,  0.3803,  1.1331,  1.2031],\n",
       "           [-0.1275, -1.3880, -0.4601,  ...,  0.2577,  0.9930,  0.6254]],\n",
       " \n",
       "          [[-1.5604, -1.8044, -1.8044,  ..., -1.0898, -0.8284, -1.0027],\n",
       "           [-0.9330, -1.8044, -1.8044,  ..., -0.8807, -0.6018, -1.4036],\n",
       "           [-0.0615, -1.2990, -1.0898,  ..., -0.6541, -0.2010, -1.4559],\n",
       "           ...,\n",
       "           [-0.3578, -1.5779, -0.6890,  ...,  0.5485,  1.2631,  1.7511],\n",
       "           [-0.3927, -1.2293, -0.1661,  ...,  0.3916,  1.2282,  1.3851],\n",
       "           [-0.2358, -1.3339, -0.1487,  ...,  0.3045,  1.1062,  0.8448]]],\n",
       " \n",
       " \n",
       "         [[[-1.8610, -2.1179, -1.5185,  ..., -1.7583, -0.5253, -0.3027],\n",
       "           [-1.0904, -0.9534, -1.9980,  ..., -0.6623, -0.3198, -0.2513],\n",
       "           [-1.7240, -1.3302, -1.0562,  ...,  1.7352, -1.0048, -0.1314],\n",
       "           ...,\n",
       "           [-0.0801, -0.5082, -0.0972,  ...,  1.4098,  1.8722,  1.3242],\n",
       "           [-0.1828, -0.6281, -0.4911,  ...,  1.5982,  1.5639,  1.2385],\n",
       "           [-1.1075, -2.0837, -0.6109,  ...,  1.3584,  1.9920,  0.0056]],\n",
       " \n",
       "          [[-1.2129, -1.5805, -0.9503,  ..., -1.5805, -0.3025, -0.0574],\n",
       "           [-0.4251, -0.3375, -1.4405,  ..., -0.3725, -0.0749, -0.0749],\n",
       "           [-1.0728, -0.7227, -0.4776,  ...,  2.1134, -0.7752,  0.0126],\n",
       "           ...,\n",
       "           [ 0.1527, -0.2850,  0.1001,  ...,  1.5357,  2.0084,  1.4482],\n",
       "           [ 0.0301, -0.4251, -0.2850,  ...,  1.6758,  1.6408,  1.2906],\n",
       "           [-0.9328, -1.9132, -0.4076,  ...,  1.4307,  2.0609,  0.0301]],\n",
       " \n",
       "          [[-1.8044, -1.8044, -1.4384,  ..., -1.4210, -0.5321, -0.5670],\n",
       "           [-1.0201, -0.9156, -1.8044,  ..., -0.7587, -0.4275, -0.1487],\n",
       "           [-1.6999, -1.3339, -1.0027,  ...,  1.5245, -1.1421,  0.1476],\n",
       "           ...,\n",
       "           [-0.2184, -0.6541, -0.2881,  ...,  1.3154,  1.8208,  1.2631],\n",
       "           [-0.2707, -0.7587, -0.6193,  ...,  1.5420,  1.5245,  1.2282],\n",
       "           [-1.1770, -1.8044, -0.7064,  ...,  1.3154,  1.9951,  0.0082]]]]),\n",
       " tensor([0, 0, 0, 0, 0, 0, 0, 0, 0, 0, 0, 0, 0, 0, 0, 0, 0, 0, 0, 0, 0, 0, 0, 0,\n",
       "         0, 0, 0, 0, 0, 0, 0, 0, 0, 0, 0, 0, 0, 0, 0, 0, 0, 0, 0, 0, 0, 0, 0, 0,\n",
       "         0, 0, 1, 1, 1, 1, 1, 1, 1, 1, 1, 1, 1, 1, 1, 1])]"
      ]
     },
     "execution_count": 298,
     "metadata": {},
     "output_type": "execute_result"
    }
   ],
   "source": [
    "train_loader = torch.utils.data.DataLoader(\n",
    "    TorchDatasetWrapper(train_dataset, transform_train),\n",
    "    batch_size=BATCH_SIZE,\n",
    "    shuffle=True,\n",
    "    num_workers=2,  \n",
    "    pin_memory=True,\n",
    "    prefetch_factor=4,\n",
    "    persistent_workers=True\n",
    ")\n",
    "\n",
    "val_loader = torch.utils.data.DataLoader(\n",
    "    TorchDatasetWrapper(valid_dataset, transform_valid),\n",
    "    batch_size=BATCH_SIZE,\n",
    "    shuffle=False,\n",
    "    num_workers=2,  \n",
    "    pin_memory=True,\n",
    "    prefetch_factor=4,\n",
    "    persistent_workers=True\n",
    ")\n",
    "next(iter(val_loader))"
   ]
  },
  {
   "cell_type": "code",
   "execution_count": 9,
   "id": "750ec524-1840-44aa-8621-cf13e2363c9a",
   "metadata": {},
   "outputs": [],
   "source": [
    "# Mixup and CutMix\n",
    "mixup_fn = timm.data.Mixup(\n",
    "    mixup_alpha=0.8,\n",
    "    cutmix_alpha=1.0,\n",
    "    cutmix_minmax=None,\n",
    "    prob=0.5,  # Reduced probability to allow some original images\n",
    "    switch_prob=0.5,\n",
    "    mode='batch',\n",
    "    label_smoothing=0.1,\n",
    "    num_classes=NUM_CLASSES\n",
    ")"
   ]
  },
  {
   "cell_type": "markdown",
   "id": "ac840411-2f6b-4e82-be70-b67e695b3a2e",
   "metadata": {},
   "source": [
    "# Model"
   ]
  },
  {
   "cell_type": "code",
   "execution_count": 275,
   "id": "2032f2c3-8c27-4df0-ae6e-aec115cc30f7",
   "metadata": {},
   "outputs": [],
   "source": [
    "model = timm.create_model('vit_base_patch16_384', pretrained=True, num_classes=NUM_CLASSES)"
   ]
  },
  {
   "cell_type": "markdown",
   "id": "9f46124b-c64f-4c9c-aae0-8b3778ff3ce6",
   "metadata": {},
   "source": [
    "#### Adjust patch embeddings(conv2d) by averaging"
   ]
  },
  {
   "cell_type": "code",
   "execution_count": null,
   "id": "9652304d-98c2-46d3-a20a-90282490ec7d",
   "metadata": {},
   "outputs": [],
   "source": []
  },
  {
   "cell_type": "code",
   "execution_count": 276,
   "id": "2563563e-aaec-4b63-bdc5-5b81dd606b37",
   "metadata": {},
   "outputs": [
    {
     "data": {
      "text/plain": [
       "torch.Size([768, 3, 16, 16])"
      ]
     },
     "execution_count": 276,
     "metadata": {},
     "output_type": "execute_result"
    }
   ],
   "source": [
    "patch_kernels = model.patch_embed.proj.weight\n",
    "patch_kernels.shape"
   ]
  },
  {
   "cell_type": "code",
   "execution_count": 277,
   "id": "45464e67-1caf-4203-9e28-47f86336a086",
   "metadata": {},
   "outputs": [
    {
     "data": {
      "text/plain": [
       "torch.Size([3, 16, 16])"
      ]
     },
     "execution_count": 277,
     "metadata": {},
     "output_type": "execute_result"
    }
   ],
   "source": [
    "visualize = v2.Compose([v2.ToPILImage(), v2.Resize((100,100))])\n",
    "visualize(patch_kernels[59]).save(DATA_DIR+\"original.jpg\")\n",
    "patch_kernels[2].shape"
   ]
  },
  {
   "cell_type": "code",
   "execution_count": 278,
   "id": "2250c6c0-4659-4f21-b86d-f2adf3370c43",
   "metadata": {
    "scrolled": true
   },
   "outputs": [
    {
     "data": {
      "image/jpeg": "[encoded data removed]",
      "image/png": "[encoded data removed]",
      "text/plain": [
       "<PIL.Image.Image image mode=RGB size=100x100>"
      ]
     },
     "metadata": {},
     "output_type": "display_data"
    },
    {
     "data": {
      "image/jpeg": "[encoded data removed]",
      "image/png": "[encoded data removed]",
      "text/plain": [
       "<PIL.Image.Image image mode=RGB size=100x100>"
      ]
     },
     "metadata": {},
     "output_type": "display_data"
    },
    {
     "data": {
      "image/jpeg": "[encoded data removed]",
      "image/png": "[encoded data removed]",
      "text/plain": [
       "<PIL.Image.Image image mode=RGB size=100x100>"
      ]
     },
     "metadata": {},
     "output_type": "display_data"
    },
    {
     "data": {
      "image/jpeg": "[encoded data removed]",
      "image/png": "[encoded data removed]",
      "text/plain": [
       "<PIL.Image.Image image mode=RGB size=100x100>"
      ]
     },
     "metadata": {},
     "output_type": "display_data"
    },
    {
     "data": {
      "text/plain": [
       "torch.Size([3, 2, 2, 8, 8])"
      ]
     },
     "execution_count": 278,
     "metadata": {},
     "output_type": "execute_result"
    }
   ],
   "source": [
    "patches = patch_kernels[59].unfold(1,8,8).unfold(2,8,8)\n",
    "print_patches(patches)\n",
    "patches.shape"
   ]
  },
  {
   "cell_type": "code",
   "execution_count": 279,
   "id": "b880583b-da82-4d15-9249-f1722c7a8a6b",
   "metadata": {},
   "outputs": [
    {
     "name": "stdout",
     "output_type": "stream",
     "text": [
      "torch.Size([768, 3, 2, 2, 8, 8])\n",
      "torch.Size([768, 4, 3, 8, 8])\n"
     ]
    },
    {
     "data": {
      "image/jpeg": "[encoded data removed]",
      "image/png": "[encoded data removed]",
      "text/plain": [
       "<PIL.Image.Image image mode=RGB size=100x100>"
      ]
     },
     "metadata": {},
     "output_type": "display_data"
    }
   ],
   "source": [
    "unfolded_patch_kernels = patch_kernels.unfold(2,8,8).unfold(3,8,8)\n",
    "print(unfolded_patch_kernels.shape)\n",
    "divided_patch_kernels = unfolded_patch_kernels.permute(0, 2, 3, 1, 4, 5).reshape(768, -1, 3, 8, 8)\n",
    "print(divided_patch_kernels.shape)\n",
    "visualize(divided_patch_kernels[59][0]).show()"
   ]
  },
  {
   "cell_type": "code",
   "execution_count": 280,
   "id": "75da6ebe-8f89-4419-971b-8ef942ae9253",
   "metadata": {},
   "outputs": [
    {
     "name": "stdout",
     "output_type": "stream",
     "text": [
      "torch.Size([768, 3, 8, 8])\n"
     ]
    }
   ],
   "source": [
    "averaged_patch_kernels = divided_patch_kernels.mean(dim=1)\n",
    "print(averaged_patch_kernels.shape)\n",
    "visualize(averaged_patch_kernels[59]).save(DATA_DIR+\"mean_patches.jpg\")"
   ]
  },
  {
   "cell_type": "code",
   "execution_count": 281,
   "id": "e13c9913-cf60-4cd2-b13e-11e032f409e4",
   "metadata": {},
   "outputs": [
    {
     "data": {
      "text/plain": [
       "Conv2d(3, 768, kernel_size=(16, 16), stride=(16, 16))"
      ]
     },
     "execution_count": 281,
     "metadata": {},
     "output_type": "execute_result"
    }
   ],
   "source": [
    "model.patch_embed.proj"
   ]
  },
  {
   "cell_type": "code",
   "execution_count": 282,
   "id": "b076d268-7113-4269-b10d-411da1d1a239",
   "metadata": {},
   "outputs": [
    {
     "data": {
      "text/plain": [
       "torch.Size([1, 577, 768])"
      ]
     },
     "execution_count": 282,
     "metadata": {},
     "output_type": "execute_result"
    }
   ],
   "source": [
    "pos_embeddings = model.pos_embed\n",
    "pos_embeddings.shape"
   ]
  },
  {
   "cell_type": "markdown",
   "id": "0756eda5-cb6f-4f89-9a6b-27c8b1da7891",
   "metadata": {},
   "source": [
    "#### Another solution would be using maxpool"
   ]
  },
  {
   "cell_type": "code",
   "execution_count": 283,
   "id": "46abe8c9-411c-45f9-a8a8-557c926ba1da",
   "metadata": {},
   "outputs": [
    {
     "data": {
      "text/plain": [
       "torch.Size([768, 3, 16, 16])"
      ]
     },
     "execution_count": 283,
     "metadata": {},
     "output_type": "execute_result"
    }
   ],
   "source": [
    "patch_kernels = model.patch_embed.proj.weight\n",
    "patch_kernels.shape"
   ]
  },
  {
   "cell_type": "code",
   "execution_count": 284,
   "id": "07c17d8b-b17f-40e5-a013-93ed8b5921c8",
   "metadata": {},
   "outputs": [],
   "source": [
    "max_pool = torch.nn.MaxPool2d(2, stride=2)\n",
    "maxpooled = max_pool(patch_kernels)"
   ]
  },
  {
   "cell_type": "code",
   "execution_count": 285,
   "id": "04f90387-91b1-496e-9729-94b0707094f4",
   "metadata": {},
   "outputs": [],
   "source": [
    "visualize(maxpooled[59]).save(DATA_DIR+\"maxpool.jpg\")"
   ]
  },
  {
   "cell_type": "markdown",
   "id": "1affcc2f-23b3-4b22-9141-9fc341090073",
   "metadata": {},
   "source": [
    "or bicubic interpolation"
   ]
  },
  {
   "cell_type": "code",
   "execution_count": 286,
   "id": "7171e6fa-2511-4b26-8235-a872f84a0d98",
   "metadata": {},
   "outputs": [],
   "source": [
    "interpooled_patch_embedding = torch.nn.functional.interpolate(patch_kernels, size=(8,8), mode=\"bicubic\")\n",
    "visualize(interpooled_patch_embedding[59]).save(DATA_DIR+\"bicubic.jpg\")"
   ]
  },
  {
   "cell_type": "code",
   "execution_count": 287,
   "id": "fcb13c32-f856-4e5d-b612-acecaa83a929",
   "metadata": {},
   "outputs": [],
   "source": [
    "mean_pool = torch.nn.AvgPool2d(2, stride=2)\n",
    "mean_pooled = mean_pool(patch_kernels)\n",
    "visualize(mean_pooled[59]).save(DATA_DIR+\"averagepool.jpg\")"
   ]
  },
  {
   "cell_type": "markdown",
   "id": "34e69051-e2da-4448-9e59-0ca20f88b346",
   "metadata": {},
   "source": [
    "#### Interpolate "
   ]
  },
  {
   "cell_type": "markdown",
   "id": "b29e9c4f-a7f0-4393-a794-f2128d766525",
   "metadata": {},
   "source": [
    "#### Training loop"
   ]
  },
  {
   "cell_type": "code",
   "execution_count": 294,
   "id": "efe1c1e4-fc71-422c-96b6-0863680cfafe",
   "metadata": {},
   "outputs": [
    {
     "name": "stdout",
     "output_type": "stream",
     "text": [
      "torch.Size([1, 577, 768])\n",
      "torch.Size([1, 64, 768])\n"
     ]
    }
   ],
   "source": [
    "pos_embed = model.pos_embed\n",
    "print(pos_embed.shape)\n",
    "pos_embed = pos_embed.reshape(577, 768)\n",
    "cls_pos_embedding, pos_embed = torch.split(pos_embed, [1, 576])\n",
    "pos_embed = pos_embed.reshape(24, 24, 768).permute(2, 0, 1)\n",
    "pos_embed.shape\n",
    "pos_embed = torch.nn.functional.interpolate(pos_embed.unsqueeze(0), size=(8, 8), mode=\"bicubic\")\n",
    "pos_embed = pos_embed.reshape(1, 768, 64).permute(0, 2, 1)\n",
    "print(pos_embed.shape)\n",
    "pos_embed = torch.cat([pos_embed, cls_pos_embedding.unsqueeze(0)], dim=1)"
   ]
  },
  {
   "cell_type": "code",
   "execution_count": 295,
   "id": "d04fe7c9-f333-4411-89b1-ce0f943dba6a",
   "metadata": {},
   "outputs": [],
   "source": [
    "model.pos_embed = torch.nn.Parameter(pos_embed)\n",
    "model.patch_embed.proj = torch.nn.Conv2d(3, 768, kernel_size=(8, 8), stride=(8, 8))\n",
    "model.patch_embed.proj.weight = torch.nn.Parameter(interpooled_patch_embedding)\n",
    "model.img_size = 64\n",
    "model.patch_embed.img_size = (64, 64)"
   ]
  },
  {
   "cell_type": "code",
   "execution_count": 220,
   "id": "32b47a36-6447-4140-a137-4b434f63e50b",
   "metadata": {},
   "outputs": [],
   "source": [
    "for param in model.parameters():\n",
    "    param.requires_grad = True"
   ]
  },
  {
   "cell_type": "code",
   "execution_count": 221,
   "id": "03f49e77-8e5c-43d1-98ca-bd8bbb759540",
   "metadata": {},
   "outputs": [
    {
     "name": "stdout",
     "output_type": "stream",
     "text": [
      "Using device: cpu\n"
     ]
    }
   ],
   "source": [
    "device = torch.device(\"cuda\" if torch.cuda.is_available() else \"cpu\")\n",
    "print(f\"Using device: {device}\")\n",
    "model = model.to(device)"
   ]
  },
  {
   "cell_type": "code",
   "execution_count": 222,
   "id": "4e5c73d6-030b-4daf-be73-8b9ff9032bf4",
   "metadata": {},
   "outputs": [
    {
     "name": "stderr",
     "output_type": "stream",
     "text": [
      "/opt/anaconda3/lib/python3.12/site-packages/torch/amp/grad_scaler.py:132: UserWarning: torch.cuda.amp.GradScaler is enabled, but CUDA is not available.  Disabling.\n",
      "  warnings.warn(\n"
     ]
    }
   ],
   "source": [
    "# Loss, Optimizer, and Scheduler\n",
    "criterion = SoftTargetCrossEntropy()  # For Mixup and CutMix\n",
    "\n",
    "# Using SGD with momentum for better fine-tuning\n",
    "optimizer = torch.optim.SGD(\n",
    "    filter(lambda p: p.requires_grad, model.parameters()),\n",
    "    lr=LEARNING_RATE,\n",
    "    momentum=0.9,\n",
    "    weight_decay=WEIGHT_DECAY\n",
    ")\n",
    "\n",
    "# Scheduler adjusted to steps per epoch\n",
    "scheduler = torch.optim.lr_scheduler.CosineAnnealingLR(optimizer, T_max=NUM_EPOCHS)\n",
    "\n",
    "# Initialize AMP scaler for mixed precision\n",
    "scaler = torch.amp.GradScaler(device='cuda')  # Updated instantiation\n",
    "\n",
    "# Training and Validation Loop\n",
    "writer = SummaryWriter()  # For TensorBoard logging"
   ]
  },
  {
   "cell_type": "code",
   "execution_count": 223,
   "id": "27549381-fbf7-48ed-b160-7eb6c02d8dba",
   "metadata": {},
   "outputs": [],
   "source": [
    "def train_one_epoch(epoch):\n",
    "    model.train()\n",
    "    running_loss, correct, total = 0.0, 0, 0\n",
    "\n",
    "    # Progress bar for training loop\n",
    "    train_loader_tqdm = tqdm(train_loader, desc=f\"Epoch {epoch+1}/{NUM_EPOCHS} [Training]\", leave=False)\n",
    "    for batch_idx, (images, labels) in enumerate(train_loader_tqdm):\n",
    "        images, labels = images.to(device, non_blocking=True), labels.to(device, non_blocking=True)\n",
    "\n",
    "        # Apply Mixup/CutMix\n",
    "        images, labels = mixup_fn(images, labels)\n",
    "\n",
    "        optimizer.zero_grad()\n",
    "\n",
    "        with torch.cuda.amp.autocast():\n",
    "            outputs = model(images)\n",
    "            loss = criterion(outputs, labels)\n",
    "\n",
    "        scaler.scale(loss).backward()\n",
    "        scaler.step(optimizer)\n",
    "        scaler.update()\n",
    "\n",
    "        # Calculate batch metrics\n",
    "        batch_loss = loss.item()\n",
    "        _, predicted = outputs.max(1)\n",
    "        _, targets = labels.max(1)\n",
    "        batch_correct = predicted.eq(targets).sum().item()\n",
    "        batch_total = labels.size(0)\n",
    "        batch_acc = 100. * batch_correct / batch_total\n",
    "\n",
    "        # Accumulate epoch metrics\n",
    "        running_loss += batch_loss * batch_total\n",
    "        correct += batch_correct\n",
    "        total += batch_total\n",
    "\n",
    "        # Calculate global step for consistent logging across epochs\n",
    "        global_step = epoch * len(train_loader) + batch_idx\n",
    "\n",
    "        # Log per-batch metrics\n",
    "        writer.add_scalar('Loss/train_batch', batch_loss, global_step)\n",
    "        writer.add_scalar('Accuracy/train_batch', batch_acc, global_step)\n",
    "\n",
    "        # Update progress bar with cumulative metrics\n",
    "        if (batch_idx + 1) % LOG_INTERVAL == 0 or (batch_idx + 1) == len(train_loader):\n",
    "            cumulative_loss = running_loss / total\n",
    "            cumulative_acc = 100. * correct / total\n",
    "            train_loader_tqdm.set_postfix(\n",
    "                loss=f\"{cumulative_loss:.4f}\", \n",
    "                accuracy=f\"{cumulative_acc:.2f}%\"\n",
    "            )\n",
    "\n",
    "    # Calculate and log epoch metrics\n",
    "    epoch_loss = running_loss / total\n",
    "    epoch_acc = 100. * correct / total\n",
    "    writer.add_scalar('Loss/train', epoch_loss, epoch)\n",
    "    writer.add_scalar('Accuracy/train', epoch_acc, epoch)\n",
    "    print(f\"Epoch [{epoch+1}/{NUM_EPOCHS}], Loss: {epoch_loss:.4f}, Acc: {epoch_acc:.2f}%\")"
   ]
  },
  {
   "cell_type": "code",
   "execution_count": 224,
   "id": "e04d0f9f-5439-4d10-b40d-8ab56d3ad395",
   "metadata": {},
   "outputs": [],
   "source": [
    "def validate(epoch):\n",
    "    model.eval()\n",
    "    val_loss, correct, total = 0.0, 0, 0\n",
    "\n",
    "    # Progress bar for validation loop\n",
    "    val_loader_tqdm = tqdm(val_loader, desc=f\"Epoch {epoch+1}/{NUM_EPOCHS} [Validation]\", leave=False)\n",
    "    criterion_val = torch.nn.CrossEntropyLoss()\n",
    "\n",
    "    with torch.no_grad():\n",
    "        for batch_idx, (images, labels) in enumerate(val_loader_tqdm):\n",
    "            images, labels = images.to(device, non_blocking=True), labels.to(device, non_blocking=True)\n",
    "\n",
    "            with torch.cuda.amp.autocast():\n",
    "                outputs = model(images)\n",
    "                loss = criterion_val(outputs, labels)\n",
    "\n",
    "            # Calculate batch metrics\n",
    "            batch_loss = loss.item()\n",
    "            batch_total = labels.size(0)\n",
    "            _, predicted = outputs.max(1)\n",
    "            batch_correct = predicted.eq(labels).sum().item()\n",
    "            batch_acc = 100. * batch_correct / batch_total\n",
    "\n",
    "            # Accumulate epoch metrics\n",
    "            val_loss += batch_loss * batch_total\n",
    "            correct += batch_correct\n",
    "            total += batch_total\n",
    "\n",
    "            # Create unique global step aligned with training progression\n",
    "            global_step = epoch * len(train_loader) + len(train_loader) + batch_idx\n",
    "\n",
    "            # Log per-batch metrics\n",
    "            writer.add_scalar('Loss/val_batch', batch_loss, global_step)\n",
    "            writer.add_scalar('Accuracy/val_batch', batch_acc, global_step)\n",
    "\n",
    "            # Update progress bar with cumulative metrics\n",
    "            if (batch_idx + 1) % LOG_INTERVAL == 0 or (batch_idx + 1) == len(val_loader):\n",
    "                cumulative_loss = val_loss / total\n",
    "                cumulative_acc = 100. * correct / total\n",
    "                val_loader_tqdm.set_postfix(\n",
    "                    loss=f\"{cumulative_loss:.4f}\", \n",
    "                    accuracy=f\"{cumulative_acc:.2f}%\"\n",
    "                )\n",
    "\n",
    "    # Log epoch metrics\n",
    "    epoch_loss = val_loss / total\n",
    "    epoch_acc = 100. * correct / total\n",
    "    writer.add_scalar('Loss/val', epoch_loss, epoch)\n",
    "    writer.add_scalar('Accuracy/val', epoch_acc, epoch)\n",
    "    print(f\"Validation Loss: {epoch_loss:.4f}, Acc: {epoch_acc:.2f}%\")\n",
    "\n",
    "    return epoch_acc"
   ]
  },
  {
   "cell_type": "code",
   "execution_count": 227,
   "id": "596fbbab-788d-450a-9e3c-cd1e0451d006",
   "metadata": {},
   "outputs": [
    {
     "name": "stdout",
     "output_type": "stream",
     "text": [
      "logging in runs/May18_19-09-50_673bab8e-c356-488b-8ab0-301a9c7a07aa\n"
     ]
    },
    {
     "name": "stderr",
     "output_type": "stream",
     "text": [
      "Epoch 1/10 [Training]:   0%|                                                                                   | 0/1563 [00:00<?, ?it/s]/tmp/ipykernel_1162/2629270786.py:15: FutureWarning: `torch.cuda.amp.autocast(args...)` is deprecated. Please use `torch.amp.autocast('cuda', args...)` instead.\n",
      "  with torch.cuda.amp.autocast():\n",
      "/opt/anaconda3/lib/python3.12/site-packages/torch/amp/autocast_mode.py:266: UserWarning: User provided device_type of 'cuda', but CUDA is not available. Disabling\n",
      "  warnings.warn(\n",
      "                                                                                                                                        \r"
     ]
    },
    {
     "ename": "AssertionError",
     "evalue": "Input height (64) doesn't match model (384).",
     "output_type": "error",
     "traceback": [
      "\u001b[0;31m---------------------------------------------------------------------------\u001b[0m",
      "\u001b[0;31mAssertionError\u001b[0m                            Traceback (most recent call last)",
      "Cell \u001b[0;32mIn[227], line 5\u001b[0m\n\u001b[1;32m      3\u001b[0m \u001b[38;5;28mprint\u001b[39m(\u001b[38;5;124mf\u001b[39m\u001b[38;5;124m\"\u001b[39m\u001b[38;5;124mlogging in \u001b[39m\u001b[38;5;132;01m{\u001b[39;00mwriter\u001b[38;5;241m.\u001b[39mlog_dir\u001b[38;5;132;01m}\u001b[39;00m\u001b[38;5;124m\"\u001b[39m)\n\u001b[1;32m      4\u001b[0m \u001b[38;5;28;01mfor\u001b[39;00m epoch \u001b[38;5;129;01min\u001b[39;00m \u001b[38;5;28mrange\u001b[39m(NUM_EPOCHS):\n\u001b[0;32m----> 5\u001b[0m     train_one_epoch(epoch)\n\u001b[1;32m      6\u001b[0m     val_acc \u001b[38;5;241m=\u001b[39m validate(epoch)\n\u001b[1;32m      8\u001b[0m     \u001b[38;5;66;03m# Scheduler step\u001b[39;00m\n",
      "Cell \u001b[0;32mIn[223], line 16\u001b[0m, in \u001b[0;36mtrain_one_epoch\u001b[0;34m(epoch)\u001b[0m\n\u001b[1;32m     13\u001b[0m optimizer\u001b[38;5;241m.\u001b[39mzero_grad()\n\u001b[1;32m     15\u001b[0m \u001b[38;5;28;01mwith\u001b[39;00m torch\u001b[38;5;241m.\u001b[39mcuda\u001b[38;5;241m.\u001b[39mamp\u001b[38;5;241m.\u001b[39mautocast():\n\u001b[0;32m---> 16\u001b[0m     outputs \u001b[38;5;241m=\u001b[39m model(images)\n\u001b[1;32m     17\u001b[0m     loss \u001b[38;5;241m=\u001b[39m criterion(outputs, labels)\n\u001b[1;32m     19\u001b[0m scaler\u001b[38;5;241m.\u001b[39mscale(loss)\u001b[38;5;241m.\u001b[39mbackward()\n",
      "File \u001b[0;32m/opt/anaconda3/lib/python3.12/site-packages/torch/nn/modules/module.py:1736\u001b[0m, in \u001b[0;36mModule._wrapped_call_impl\u001b[0;34m(self, *args, **kwargs)\u001b[0m\n\u001b[1;32m   1734\u001b[0m     \u001b[38;5;28;01mreturn\u001b[39;00m \u001b[38;5;28mself\u001b[39m\u001b[38;5;241m.\u001b[39m_compiled_call_impl(\u001b[38;5;241m*\u001b[39margs, \u001b[38;5;241m*\u001b[39m\u001b[38;5;241m*\u001b[39mkwargs)  \u001b[38;5;66;03m# type: ignore[misc]\u001b[39;00m\n\u001b[1;32m   1735\u001b[0m \u001b[38;5;28;01melse\u001b[39;00m:\n\u001b[0;32m-> 1736\u001b[0m     \u001b[38;5;28;01mreturn\u001b[39;00m \u001b[38;5;28mself\u001b[39m\u001b[38;5;241m.\u001b[39m_call_impl(\u001b[38;5;241m*\u001b[39margs, \u001b[38;5;241m*\u001b[39m\u001b[38;5;241m*\u001b[39mkwargs)\n",
      "File \u001b[0;32m/opt/anaconda3/lib/python3.12/site-packages/torch/nn/modules/module.py:1747\u001b[0m, in \u001b[0;36mModule._call_impl\u001b[0;34m(self, *args, **kwargs)\u001b[0m\n\u001b[1;32m   1742\u001b[0m \u001b[38;5;66;03m# If we don't have any hooks, we want to skip the rest of the logic in\u001b[39;00m\n\u001b[1;32m   1743\u001b[0m \u001b[38;5;66;03m# this function, and just call forward.\u001b[39;00m\n\u001b[1;32m   1744\u001b[0m \u001b[38;5;28;01mif\u001b[39;00m \u001b[38;5;129;01mnot\u001b[39;00m (\u001b[38;5;28mself\u001b[39m\u001b[38;5;241m.\u001b[39m_backward_hooks \u001b[38;5;129;01mor\u001b[39;00m \u001b[38;5;28mself\u001b[39m\u001b[38;5;241m.\u001b[39m_backward_pre_hooks \u001b[38;5;129;01mor\u001b[39;00m \u001b[38;5;28mself\u001b[39m\u001b[38;5;241m.\u001b[39m_forward_hooks \u001b[38;5;129;01mor\u001b[39;00m \u001b[38;5;28mself\u001b[39m\u001b[38;5;241m.\u001b[39m_forward_pre_hooks\n\u001b[1;32m   1745\u001b[0m         \u001b[38;5;129;01mor\u001b[39;00m _global_backward_pre_hooks \u001b[38;5;129;01mor\u001b[39;00m _global_backward_hooks\n\u001b[1;32m   1746\u001b[0m         \u001b[38;5;129;01mor\u001b[39;00m _global_forward_hooks \u001b[38;5;129;01mor\u001b[39;00m _global_forward_pre_hooks):\n\u001b[0;32m-> 1747\u001b[0m     \u001b[38;5;28;01mreturn\u001b[39;00m forward_call(\u001b[38;5;241m*\u001b[39margs, \u001b[38;5;241m*\u001b[39m\u001b[38;5;241m*\u001b[39mkwargs)\n\u001b[1;32m   1749\u001b[0m result \u001b[38;5;241m=\u001b[39m \u001b[38;5;28;01mNone\u001b[39;00m\n\u001b[1;32m   1750\u001b[0m called_always_called_hooks \u001b[38;5;241m=\u001b[39m \u001b[38;5;28mset\u001b[39m()\n",
      "File \u001b[0;32m~/.local/lib/python3.12/site-packages/timm/models/vision_transformer.py:853\u001b[0m, in \u001b[0;36mVisionTransformer.forward\u001b[0;34m(self, x)\u001b[0m\n\u001b[1;32m    852\u001b[0m \u001b[38;5;28;01mdef\u001b[39;00m \u001b[38;5;21mforward\u001b[39m(\u001b[38;5;28mself\u001b[39m, x: torch\u001b[38;5;241m.\u001b[39mTensor) \u001b[38;5;241m-\u001b[39m\u001b[38;5;241m>\u001b[39m torch\u001b[38;5;241m.\u001b[39mTensor:\n\u001b[0;32m--> 853\u001b[0m     x \u001b[38;5;241m=\u001b[39m \u001b[38;5;28mself\u001b[39m\u001b[38;5;241m.\u001b[39mforward_features(x)\n\u001b[1;32m    854\u001b[0m     x \u001b[38;5;241m=\u001b[39m \u001b[38;5;28mself\u001b[39m\u001b[38;5;241m.\u001b[39mforward_head(x)\n\u001b[1;32m    855\u001b[0m     \u001b[38;5;28;01mreturn\u001b[39;00m x\n",
      "File \u001b[0;32m~/.local/lib/python3.12/site-packages/timm/models/vision_transformer.py:827\u001b[0m, in \u001b[0;36mVisionTransformer.forward_features\u001b[0;34m(self, x)\u001b[0m\n\u001b[1;32m    826\u001b[0m \u001b[38;5;28;01mdef\u001b[39;00m \u001b[38;5;21mforward_features\u001b[39m(\u001b[38;5;28mself\u001b[39m, x: torch\u001b[38;5;241m.\u001b[39mTensor) \u001b[38;5;241m-\u001b[39m\u001b[38;5;241m>\u001b[39m torch\u001b[38;5;241m.\u001b[39mTensor:\n\u001b[0;32m--> 827\u001b[0m     x \u001b[38;5;241m=\u001b[39m \u001b[38;5;28mself\u001b[39m\u001b[38;5;241m.\u001b[39mpatch_embed(x)\n\u001b[1;32m    828\u001b[0m     x \u001b[38;5;241m=\u001b[39m \u001b[38;5;28mself\u001b[39m\u001b[38;5;241m.\u001b[39m_pos_embed(x)\n\u001b[1;32m    829\u001b[0m     x \u001b[38;5;241m=\u001b[39m \u001b[38;5;28mself\u001b[39m\u001b[38;5;241m.\u001b[39mpatch_drop(x)\n",
      "File \u001b[0;32m/opt/anaconda3/lib/python3.12/site-packages/torch/nn/modules/module.py:1736\u001b[0m, in \u001b[0;36mModule._wrapped_call_impl\u001b[0;34m(self, *args, **kwargs)\u001b[0m\n\u001b[1;32m   1734\u001b[0m     \u001b[38;5;28;01mreturn\u001b[39;00m \u001b[38;5;28mself\u001b[39m\u001b[38;5;241m.\u001b[39m_compiled_call_impl(\u001b[38;5;241m*\u001b[39margs, \u001b[38;5;241m*\u001b[39m\u001b[38;5;241m*\u001b[39mkwargs)  \u001b[38;5;66;03m# type: ignore[misc]\u001b[39;00m\n\u001b[1;32m   1735\u001b[0m \u001b[38;5;28;01melse\u001b[39;00m:\n\u001b[0;32m-> 1736\u001b[0m     \u001b[38;5;28;01mreturn\u001b[39;00m \u001b[38;5;28mself\u001b[39m\u001b[38;5;241m.\u001b[39m_call_impl(\u001b[38;5;241m*\u001b[39margs, \u001b[38;5;241m*\u001b[39m\u001b[38;5;241m*\u001b[39mkwargs)\n",
      "File \u001b[0;32m/opt/anaconda3/lib/python3.12/site-packages/torch/nn/modules/module.py:1747\u001b[0m, in \u001b[0;36mModule._call_impl\u001b[0;34m(self, *args, **kwargs)\u001b[0m\n\u001b[1;32m   1742\u001b[0m \u001b[38;5;66;03m# If we don't have any hooks, we want to skip the rest of the logic in\u001b[39;00m\n\u001b[1;32m   1743\u001b[0m \u001b[38;5;66;03m# this function, and just call forward.\u001b[39;00m\n\u001b[1;32m   1744\u001b[0m \u001b[38;5;28;01mif\u001b[39;00m \u001b[38;5;129;01mnot\u001b[39;00m (\u001b[38;5;28mself\u001b[39m\u001b[38;5;241m.\u001b[39m_backward_hooks \u001b[38;5;129;01mor\u001b[39;00m \u001b[38;5;28mself\u001b[39m\u001b[38;5;241m.\u001b[39m_backward_pre_hooks \u001b[38;5;129;01mor\u001b[39;00m \u001b[38;5;28mself\u001b[39m\u001b[38;5;241m.\u001b[39m_forward_hooks \u001b[38;5;129;01mor\u001b[39;00m \u001b[38;5;28mself\u001b[39m\u001b[38;5;241m.\u001b[39m_forward_pre_hooks\n\u001b[1;32m   1745\u001b[0m         \u001b[38;5;129;01mor\u001b[39;00m _global_backward_pre_hooks \u001b[38;5;129;01mor\u001b[39;00m _global_backward_hooks\n\u001b[1;32m   1746\u001b[0m         \u001b[38;5;129;01mor\u001b[39;00m _global_forward_hooks \u001b[38;5;129;01mor\u001b[39;00m _global_forward_pre_hooks):\n\u001b[0;32m-> 1747\u001b[0m     \u001b[38;5;28;01mreturn\u001b[39;00m forward_call(\u001b[38;5;241m*\u001b[39margs, \u001b[38;5;241m*\u001b[39m\u001b[38;5;241m*\u001b[39mkwargs)\n\u001b[1;32m   1749\u001b[0m result \u001b[38;5;241m=\u001b[39m \u001b[38;5;28;01mNone\u001b[39;00m\n\u001b[1;32m   1750\u001b[0m called_always_called_hooks \u001b[38;5;241m=\u001b[39m \u001b[38;5;28mset\u001b[39m()\n",
      "File \u001b[0;32m~/.local/lib/python3.12/site-packages/timm/layers/patch_embed.py:116\u001b[0m, in \u001b[0;36mPatchEmbed.forward\u001b[0;34m(self, x)\u001b[0m\n\u001b[1;32m    114\u001b[0m \u001b[38;5;28;01mif\u001b[39;00m \u001b[38;5;28mself\u001b[39m\u001b[38;5;241m.\u001b[39mimg_size \u001b[38;5;129;01mis\u001b[39;00m \u001b[38;5;129;01mnot\u001b[39;00m \u001b[38;5;28;01mNone\u001b[39;00m:\n\u001b[1;32m    115\u001b[0m     \u001b[38;5;28;01mif\u001b[39;00m \u001b[38;5;28mself\u001b[39m\u001b[38;5;241m.\u001b[39mstrict_img_size:\n\u001b[0;32m--> 116\u001b[0m         _assert(H \u001b[38;5;241m==\u001b[39m \u001b[38;5;28mself\u001b[39m\u001b[38;5;241m.\u001b[39mimg_size[\u001b[38;5;241m0\u001b[39m], \u001b[38;5;124mf\u001b[39m\u001b[38;5;124m\"\u001b[39m\u001b[38;5;124mInput height (\u001b[39m\u001b[38;5;132;01m{\u001b[39;00mH\u001b[38;5;132;01m}\u001b[39;00m\u001b[38;5;124m) doesn\u001b[39m\u001b[38;5;124m'\u001b[39m\u001b[38;5;124mt match model (\u001b[39m\u001b[38;5;132;01m{\u001b[39;00m\u001b[38;5;28mself\u001b[39m\u001b[38;5;241m.\u001b[39mimg_size[\u001b[38;5;241m0\u001b[39m]\u001b[38;5;132;01m}\u001b[39;00m\u001b[38;5;124m).\u001b[39m\u001b[38;5;124m\"\u001b[39m)\n\u001b[1;32m    117\u001b[0m         _assert(W \u001b[38;5;241m==\u001b[39m \u001b[38;5;28mself\u001b[39m\u001b[38;5;241m.\u001b[39mimg_size[\u001b[38;5;241m1\u001b[39m], \u001b[38;5;124mf\u001b[39m\u001b[38;5;124m\"\u001b[39m\u001b[38;5;124mInput width (\u001b[39m\u001b[38;5;132;01m{\u001b[39;00mW\u001b[38;5;132;01m}\u001b[39;00m\u001b[38;5;124m) doesn\u001b[39m\u001b[38;5;124m'\u001b[39m\u001b[38;5;124mt match model (\u001b[39m\u001b[38;5;132;01m{\u001b[39;00m\u001b[38;5;28mself\u001b[39m\u001b[38;5;241m.\u001b[39mimg_size[\u001b[38;5;241m1\u001b[39m]\u001b[38;5;132;01m}\u001b[39;00m\u001b[38;5;124m).\u001b[39m\u001b[38;5;124m\"\u001b[39m)\n\u001b[1;32m    118\u001b[0m     \u001b[38;5;28;01melif\u001b[39;00m \u001b[38;5;129;01mnot\u001b[39;00m \u001b[38;5;28mself\u001b[39m\u001b[38;5;241m.\u001b[39mdynamic_img_pad:\n",
      "File \u001b[0;32m/opt/anaconda3/lib/python3.12/site-packages/torch/__init__.py:2040\u001b[0m, in \u001b[0;36m_assert\u001b[0;34m(condition, message)\u001b[0m\n\u001b[1;32m   2034\u001b[0m \u001b[38;5;28;01mif\u001b[39;00m \u001b[38;5;28mtype\u001b[39m(condition) \u001b[38;5;129;01mis\u001b[39;00m \u001b[38;5;129;01mnot\u001b[39;00m torch\u001b[38;5;241m.\u001b[39mTensor \u001b[38;5;129;01mand\u001b[39;00m overrides\u001b[38;5;241m.\u001b[39mhas_torch_function(\n\u001b[1;32m   2035\u001b[0m     (condition,)\n\u001b[1;32m   2036\u001b[0m ):\n\u001b[1;32m   2037\u001b[0m     \u001b[38;5;28;01mreturn\u001b[39;00m overrides\u001b[38;5;241m.\u001b[39mhandle_torch_function(\n\u001b[1;32m   2038\u001b[0m         _assert, (condition,), condition, message\n\u001b[1;32m   2039\u001b[0m     )\n\u001b[0;32m-> 2040\u001b[0m \u001b[38;5;28;01massert\u001b[39;00m condition, message\n",
      "\u001b[0;31mAssertionError\u001b[0m: Input height (64) doesn't match model (384)."
     ]
    }
   ],
   "source": [
    "# Main Training Loop\n",
    "best_acc = 0\n",
    "print(f\"logging in {writer.log_dir}\")\n",
    "for epoch in range(NUM_EPOCHS):\n",
    "    train_one_epoch(epoch)\n",
    "    val_acc = validate(epoch)\n",
    "\n",
    "    # Scheduler step\n",
    "    scheduler.step()\n",
    "\n",
    "    # Save best model\n",
    "    if val_acc > best_acc:\n",
    "        best_acc = val_acc\n",
    "        os.makedirs(MODEL_DIRS, exist_ok=True)\n",
    "        # If using DataParallel, save the underlying model\n",
    "        if isinstance(model, torch.nn.DataParallel):\n",
    "            torch.save(model.module.state_dict(), MODEL_DIRS + 'interpolated_vit_tiny_imagenet.pth')\n",
    "        else:\n",
    "            torch.save(model.state_dict(), MODEL_DIRS + 'interpolated_vit_tiny_imagenet.pth')\n",
    "        print(f\"New best model saved with accuracy: {best_acc:.2f}%\")\n",
    "\n",
    "print(\"Training complete. Best validation accuracy:\", best_acc)\n",
    "\n",
    "writer.close()"
   ]
  },
  {
   "cell_type": "code",
   "execution_count": null,
   "id": "97face6d-ca1d-425a-8e84-c01d7f81699c",
   "metadata": {},
   "outputs": [],
   "source": []
  },
  {
   "cell_type": "code",
   "execution_count": null,
   "id": "e8ffe0ab-eff1-4811-bb07-fe0d168ebb87",
   "metadata": {},
   "outputs": [],
   "source": []
  },
  {
   "cell_type": "code",
   "execution_count": null,
   "id": "fe133073-d96e-4098-a6f2-e33ef96f67ea",
   "metadata": {},
   "outputs": [],
   "source": []
  }
 ],
 "metadata": {
  "kernelspec": {
   "display_name": "Python 3 (ipykernel)",
   "language": "python",
   "name": "python3"
  },
  "language_info": {
   "codemirror_mode": {
    "name": "ipython",
    "version": 3
   },
   "file_extension": ".py",
   "mimetype": "text/x-python",
   "name": "python",
   "nbconvert_exporter": "python",
   "pygments_lexer": "ipython3",
   "version": "3.12.7"
  }
 },
 "nbformat": 4,
 "nbformat_minor": 5
}
