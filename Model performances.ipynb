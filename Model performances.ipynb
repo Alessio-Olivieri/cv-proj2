{
 "cells": [
  {
   "cell_type": "code",
   "execution_count": 64,
   "id": "5786b438-0515-4a0c-880e-1c70127eab72",
   "metadata": {},
   "outputs": [
    {
     "name": "stderr",
     "output_type": "stream",
     "text": [
      "/home/user/.local/lib/python3.12/site-packages/deeplake/__init__.py:323: UserWarning: Global variable 'ds_test' of type <class 'deeplake._deeplake.DatasetView'> may cause issues when using fork-based multiprocessing. Consider avoiding global variables of this type, or pass to subprocess as an agrument or by manual pickling.\n",
      "  warnings.warn(\n",
      "/home/user/.local/lib/python3.12/site-packages/deeplake/__init__.py:323: UserWarning: Global variable '_51' of type <class 'deeplake._deeplake.RowView'> may cause issues when using fork-based multiprocessing. Consider avoiding global variables of this type, or pass to subprocess as an agrument or by manual pickling.\n",
      "  warnings.warn(\n",
      "/home/user/.local/lib/python3.12/site-packages/deeplake/__init__.py:323: UserWarning: Global variable '_54' of type <class 'deeplake._deeplake.ColumnView'> may cause issues when using fork-based multiprocessing. Consider avoiding global variables of this type, or pass to subprocess as an agrument or by manual pickling.\n",
      "  warnings.warn(\n"
     ]
    },
    {
     "name": "stdout",
     "output_type": "stream",
     "text": [
      "\u001b[31mERROR: pip's dependency resolver does not currently take into account all the packages that are installed. This behaviour is the source of the following dependency conflicts.\n",
      "pathos 0.3.4 requires dill>=0.4.0, but you have dill 0.3.8 which is incompatible.\n",
      "pathos 0.3.4 requires multiprocess>=0.70.18, but you have multiprocess 0.70.16 which is incompatible.\u001b[0m\u001b[31m\n",
      "\u001b[0m"
     ]
    }
   ],
   "source": [
    "!pip install pillow -q\n",
    "!pip install datasets -q\n",
    "!pip install torch -q\n",
    "!pip install torchvision -q\n",
    "!pip install matplotlib -q\n",
    "!pip install datasets -q\n",
    "!pip install torchmetrics -q\n",
    "!pip install timm -q"
   ]
  },
  {
   "cell_type": "code",
   "execution_count": 1,
   "id": "08a43959-192b-4e10-8e24-08a75f47936d",
   "metadata": {},
   "outputs": [
    {
     "name": "stderr",
     "output_type": "stream",
     "text": [
      "2025-05-19 21:12:38.149422: E external/local_xla/xla/stream_executor/cuda/cuda_fft.cc:477] Unable to register cuFFT factory: Attempting to register factory for plugin cuFFT when one has already been registered\n",
      "WARNING: All log messages before absl::InitializeLog() is called are written to STDERR\n",
      "E0000 00:00:1747689158.622958    1125 cuda_dnn.cc:8310] Unable to register cuDNN factory: Attempting to register factory for plugin cuDNN when one has already been registered\n",
      "E0000 00:00:1747689158.713010    1125 cuda_blas.cc:1418] Unable to register cuBLAS factory: Attempting to register factory for plugin cuBLAS when one has already been registered\n",
      "2025-05-19 21:12:39.519200: I tensorflow/core/platform/cpu_feature_guard.cc:210] This TensorFlow binary is optimized to use available CPU instructions in performance-critical operations.\n",
      "To enable the following instructions: AVX2 FMA, in other operations, rebuild TensorFlow with the appropriate compiler flags.\n"
     ]
    }
   ],
   "source": [
    "from datasets import load_dataset\n",
    "import PIL\n",
    "import torch\n",
    "from torchvision.transforms import v2\n",
    "import numpy as np\n",
    "import matplotlib.pyplot as plt\n",
    "import torchvision\n",
    "import os\n",
    "import timm\n",
    "from timm.loss import SoftTargetCrossEntropy\n",
    "import pickle\n",
    "from torch.utils.tensorboard import SummaryWriter\n",
    "from tqdm import tqdm"
   ]
  },
  {
   "cell_type": "markdown",
   "id": "652f7006-82b5-420e-939c-1f3adfc71b4a",
   "metadata": {},
   "source": [
    "# Global"
   ]
  },
  {
   "cell_type": "code",
   "execution_count": 7,
   "id": "db987980-afaf-41b4-8416-376ad6c9fd7a",
   "metadata": {},
   "outputs": [],
   "source": [
    "torch.backends.cudnn.benchmark = True\n",
    "\n",
    "NUM_CLASSES = 200\n",
    "BATCH_SIZE = 64  \n",
    "NUM_EPOCHS = 10  \n",
    "LEARNING_RATE = 1e-4  \n",
    "WEIGHT_DECAY = 0.01  \n",
    "IMAGE_SIZE = 384\n",
    "LOG_INTERVAL = 100 \n",
    "DATA_DIR = \"data/\"\n",
    "MODEL_DIRS = DATA_DIR+\"models/\"\n",
    "BASE_MODEL = MODEL_DIRS+\"interpolated_vit_tiny_imagenet.pth\"\n",
    "TRAIN_DATA = DATA_DIR+\"train.pkl\"\n",
    "VALID_DATA = DATA_DIR+\"valid.pkl\""
   ]
  },
  {
   "cell_type": "markdown",
   "id": "39183afb-2c1e-4125-9ca6-7cf6a07d9df5",
   "metadata": {},
   "source": [
    "# Utils"
   ]
  },
  {
   "cell_type": "code",
   "execution_count": 8,
   "id": "e2843a9a-842c-41ef-ae59-510d9ace8024",
   "metadata": {},
   "outputs": [],
   "source": [
    "class TorchDatasetWrapper(torch.utils.data.Dataset):\n",
    "    def __init__(self, hf_dataset, transform=None):\n",
    "        self.hf_dataset = hf_dataset\n",
    "        self.transform=transform\n",
    "\n",
    "    def __repr__(self):\n",
    "        return str(self.hf_dataset)\n",
    "\n",
    "    def __len__(self):\n",
    "        return len(self.hf_dataset)\n",
    "\n",
    "    def __getitem__(self, idx):\n",
    "        example = self.hf_dataset[idx]\n",
    "        image = example['image']\n",
    "        if self.transform:\n",
    "            image =  self.transform(image)\n",
    "        return image, example['label']"
   ]
  },
  {
   "cell_type": "code",
   "execution_count": 9,
   "id": "ca34d5ba-0bc2-4172-9981-fa82259e9340",
   "metadata": {},
   "outputs": [],
   "source": [
    "def gen_super_tiny(dataset, split, q=10, p=0, step=500, classes=200):\n",
    "    from datasets import Dataset\n",
    "    images_per_class = {\"validation\":50,\n",
    "                       \"test\":50,\n",
    "                       \"train\":500\n",
    "                       }\n",
    "    dataset_length = images_per_class[split]*classes\n",
    "    t = [dataset[p+i:i+q] for i in range(0, dataset_length-q, step)]\n",
    "    all_images = [image for image_class_dict in t for image in image_class_dict[\"image\"]]\n",
    "    all_labels = [image for image_class_dict in t for image in image_class_dict[\"label\"]]\n",
    "    return Dataset.from_dict({\"image\":all_images, \"label\":all_labels})"
   ]
  },
  {
   "cell_type": "code",
   "execution_count": 10,
   "id": "7660c735-45a1-4af2-a526-a9191a5a8337",
   "metadata": {},
   "outputs": [],
   "source": [
    "def print_patches(image_unfolded):\n",
    "    import matplotlib.pyplot as plt\n",
    "    from torchvision.utils import make_grid\n",
    "    visualize = v2.Compose([v2.ToPILImage(), v2.Resize((100,100))])\n",
    "    if len(image_unfolded.shape) == 5:\n",
    "        image_unfolded = image_unfolded[None,:,:,:,:,:]\n",
    "    for i in range(image_unfolded.shape[0]):\n",
    "        n_channels, n_patches_h, n_patches_w, h, w = image_unfolded.shape[1:]\n",
    "        patches = image_unfolded[i].permute(1, 2, 0, 3, 4).reshape(-1, n_channels, h, w)\n",
    "        for patch in patches:\n",
    "            visualize(patch).show()"
   ]
  },
  {
   "cell_type": "code",
   "execution_count": 11,
   "id": "5e67dcbb-3721-493b-9a46-67a1b9639ab6",
   "metadata": {},
   "outputs": [],
   "source": [
    "visualize = v2.Compose([v2.ToPILImage(), v2.Resize((100,100), antialias=False)])"
   ]
  },
  {
   "cell_type": "markdown",
   "id": "b07531a1-5f50-4b08-aebb-a11da59bee09",
   "metadata": {},
   "source": [
    "# Data"
   ]
  },
  {
   "cell_type": "markdown",
   "id": "f96e5d62-b38e-40dd-8e13-59ede06b61a5",
   "metadata": {},
   "source": [
    "Loading dataset"
   ]
  },
  {
   "cell_type": "code",
   "execution_count": 12,
   "id": "59211dfa-bfcc-40c4-b222-c988aff462f2",
   "metadata": {},
   "outputs": [],
   "source": [
    "try:\n",
    "    train_dataset = pickle.load(open(TRAIN_DATA,\"rb\"))\n",
    "    valid_dataset = pickle.load(open(VALID_DATA,\"rb\"))\n",
    "except:\n",
    "    train_dataset = load_dataset('Maysee/tiny-imagenet', split='train')\n",
    "    valid_dataset = load_dataset('Maysee/tiny-imagenet', split='valid')\n",
    "    pickle.dump(train_dataset, open(TRAIN_DATA,\"wb\"))\n",
    "    pickle.dump(valid_dataset, open(VALID_DATA,\"wb\"))"
   ]
  },
  {
   "cell_type": "markdown",
   "id": "254e9a41-724b-4dbd-a8a3-4e77ef4dbc55",
   "metadata": {},
   "source": [
    "#### Data Augmentation and Transformations"
   ]
  },
  {
   "cell_type": "code",
   "execution_count": 13,
   "id": "2bc0e50f-82e1-47d0-be7b-42570b4e2cdf",
   "metadata": {},
   "outputs": [],
   "source": [
    "transform_train = v2.Compose([\n",
    "    v2.Lambda(lambda x: x.convert('RGB')),  # some images are in grayscale\n",
    "    v2.ToImage(), \n",
    "    v2.ToDtype(torch.float32, scale=True),\n",
    "    v2.RandomHorizontalFlip(),\n",
    "    v2.RandAugment(),\n",
    "    v2.Normalize(mean=[0.485, 0.456, 0.406], std=[0.229, 0.224, 0.225]),\n",
    "    v2.RandomErasing(p=0.25),\n",
    "\n",
    "])\n",
    "\n",
    "transform_valid = v2.Compose([\n",
    "    v2.Lambda(lambda x: x.convert('RGB')),  # some images are in grayscale\n",
    "    v2.ToImage(), \n",
    "    v2.ToDtype(torch.float32, scale=True),\n",
    "    v2.Normalize((0.485, 0.456, 0.406), (0.229, 0.224, 0.225)),\n",
    "])"
   ]
  },
  {
   "cell_type": "code",
   "execution_count": 14,
   "id": "cbcc759a-bc88-4cd7-850a-4d522575fe9f",
   "metadata": {
    "scrolled": true
   },
   "outputs": [
    {
     "data": {
      "text/plain": [
       "[tensor([[[[ 2.0777,  2.1290,  2.1462,  ...,  2.2318,  2.2318,  2.2318],\n",
       "           [ 2.1633,  2.1462,  2.1633,  ...,  2.2318,  2.2318,  2.2318],\n",
       "           [ 2.1975,  2.1975,  2.1633,  ...,  2.2147,  2.2147,  2.2147],\n",
       "           ...,\n",
       "           [ 1.2728,  1.9578,  2.2318,  ...,  1.6838,  1.6667,  1.5982],\n",
       "           [ 2.0434,  2.0777,  1.8037,  ...,  2.1462,  2.1119,  1.9920],\n",
       "           [ 2.0092,  1.9407,  2.0263,  ...,  2.2318,  2.2318,  2.1975]],\n",
       " \n",
       "          [[ 2.4111,  2.4111,  2.4286,  ...,  2.4111,  2.4111,  2.4111],\n",
       "           [ 2.4286,  2.4286,  2.4111,  ...,  2.4111,  2.4111,  2.4111],\n",
       "           [ 2.4286,  2.4286,  2.4111,  ...,  2.3936,  2.3936,  2.3936],\n",
       "           ...,\n",
       "           [ 1.4482,  2.1485,  2.4286,  ...,  1.8508,  1.8333,  1.7633],\n",
       "           [ 2.4286,  2.4286,  2.1835,  ...,  2.3235,  2.2885,  2.2185],\n",
       "           [ 2.4286,  2.4286,  2.4286,  ...,  2.4111,  2.4111,  2.4286]],\n",
       " \n",
       "          [[ 2.5703,  2.5877,  2.6051,  ...,  2.6226,  2.6226,  2.6226],\n",
       "           [ 2.6226,  2.6051,  2.6051,  ...,  2.6226,  2.6226,  2.6226],\n",
       "           [ 2.6400,  2.6400,  2.6051,  ...,  2.6051,  2.6051,  2.6051],\n",
       "           ...,\n",
       "           [ 1.6988,  2.3960,  2.6400,  ...,  2.2391,  2.2217,  2.1520],\n",
       "           [ 2.6400,  2.6400,  2.3263,  ...,  2.6400,  2.6400,  2.5877],\n",
       "           [ 2.6400,  2.6051,  2.6400,  ...,  2.6400,  2.6400,  2.6400]]],\n",
       " \n",
       " \n",
       "         [[[ 0.6906,  0.6734,  0.6392,  ...,  0.5022,  0.5193,  0.5878],\n",
       "           [ 0.6734,  0.6563,  0.6392,  ...,  0.5536,  0.6221,  0.6906],\n",
       "           [ 0.8618,  0.8447,  0.8104,  ...,  0.4851,  0.5022,  0.5193],\n",
       "           ...,\n",
       "           [ 0.3309,  0.3652,  0.3994,  ...,  0.5022,  0.3138,  0.1083],\n",
       "           [ 0.3481,  0.3823,  0.4166,  ...,  0.6049,  0.4337,  0.1768],\n",
       "           [ 0.2624,  0.2967,  0.3652,  ...,  0.6734,  0.5193,  0.2282]],\n",
       " \n",
       "          [[ 1.0630,  1.0455,  1.0105,  ...,  0.8354,  0.8529,  0.9230],\n",
       "           [ 1.0455,  1.0280,  1.0105,  ...,  0.8880,  0.9580,  1.0280],\n",
       "           [ 1.2381,  1.2206,  1.1856,  ...,  0.8179,  0.8354,  0.8529],\n",
       "           ...,\n",
       "           [ 0.6779,  0.7129,  0.7479,  ...,  0.8704,  0.6954,  0.4853],\n",
       "           [ 0.6954,  0.7304,  0.7654,  ...,  0.9755,  0.8004,  0.5378],\n",
       "           [ 0.6078,  0.6429,  0.7129,  ...,  1.0455,  0.8880,  0.6429]],\n",
       " \n",
       "          [[ 1.1237,  1.1062,  1.0714,  ...,  0.7576,  0.7751,  0.8448],\n",
       "           [ 1.1062,  1.0888,  1.0714,  ...,  0.8099,  0.8797,  0.9494],\n",
       "           [ 1.2980,  1.2805,  1.2457,  ...,  0.7402,  0.7576,  0.7751],\n",
       "           ...,\n",
       "           [ 0.5136,  0.5485,  0.6182,  ...,  0.9145,  0.6879,  0.4788],\n",
       "           [ 0.5311,  0.5659,  0.6356,  ...,  1.0191,  0.8448,  0.5834],\n",
       "           [ 0.4439,  0.4788,  0.5834,  ...,  1.1062,  0.9319,  0.6705]]],\n",
       " \n",
       " \n",
       "         [[[-1.7240, -1.7412, -1.7754,  ..., -0.8507, -1.1418, -1.6042],\n",
       "           [-1.6727, -1.6727, -1.6898,  ..., -1.1075, -1.3302, -1.3644],\n",
       "           [-1.6555, -1.6555, -1.6384,  ..., -1.2617, -1.3987, -1.2959],\n",
       "           ...,\n",
       "           [-1.3815, -1.4500, -1.5014,  ..., -1.3130, -1.2617, -1.2617],\n",
       "           [-1.3815, -1.3987, -1.4500,  ..., -1.3644, -1.3302, -1.2959],\n",
       "           [-1.1589, -1.2103, -1.3130,  ..., -1.5014, -1.5185, -1.4843]],\n",
       " \n",
       "          [[-1.6681, -1.6856, -1.7206,  ..., -0.7577, -1.0903, -1.5630],\n",
       "           [-1.6155, -1.6155, -1.6331,  ..., -1.0203, -1.2479, -1.3179],\n",
       "           [-1.5980, -1.5980, -1.5805,  ..., -1.1779, -1.3179, -1.2129],\n",
       "           ...,\n",
       "           [-0.9678, -1.0378, -1.0903,  ..., -0.8277, -0.7752, -0.7752],\n",
       "           [-0.9678, -0.9853, -1.0028,  ..., -0.8803, -0.8452, -0.8102],\n",
       "           [-0.7402, -0.7927, -0.8627,  ..., -1.0203, -1.0378, -1.0028]],\n",
       " \n",
       "          [[-1.0550, -1.0724, -1.1247,  ..., -0.2184, -0.5321, -1.0027],\n",
       "           [-1.0027, -1.0027, -1.0376,  ..., -0.4798, -0.7064, -0.7587],\n",
       "           [-0.9853, -0.9853, -0.9853,  ..., -0.6367, -0.7761, -0.6715],\n",
       "           ...,\n",
       "           [-0.0790, -0.1487, -0.2010,  ...,  0.0431,  0.0953,  0.0953],\n",
       "           [-0.0790, -0.0964, -0.1312,  ..., -0.0092,  0.0256,  0.0605],\n",
       "           [ 0.1476,  0.0953,  0.0082,  ..., -0.1487, -0.1661, -0.1312]]]]),\n",
       " tensor([0, 0, 0])]"
      ]
     },
     "execution_count": 14,
     "metadata": {},
     "output_type": "execute_result"
    }
   ],
   "source": [
    "train_loader = torch.utils.data.DataLoader(\n",
    "    TorchDatasetWrapper(train_dataset, transform_train),\n",
    "    batch_size=BATCH_SIZE,\n",
    "    shuffle=True,\n",
    "    num_workers=2,  \n",
    "    pin_memory=True,\n",
    "    prefetch_factor=4,\n",
    "    persistent_workers=True\n",
    ")\n",
    "\n",
    "val_loader = torch.utils.data.DataLoader(\n",
    "    TorchDatasetWrapper(valid_dataset, transform_valid),\n",
    "    batch_size=3,\n",
    "    shuffle=False,\n",
    "    num_workers=2,  \n",
    "    pin_memory=True,\n",
    "    prefetch_factor=4,\n",
    "    persistent_workers=True\n",
    ")\n",
    "next(iter(val_loader))"
   ]
  },
  {
   "cell_type": "code",
   "execution_count": 15,
   "id": "14d53f68-ba90-44ff-bdfa-81e62daf8a51",
   "metadata": {},
   "outputs": [],
   "source": [
    "# Mixup and CutMix\n",
    "mixup_fn = timm.data.Mixup(\n",
    "    mixup_alpha=0.8,\n",
    "    cutmix_alpha=1.0,\n",
    "    cutmix_minmax=None,\n",
    "    prob=0.5,  # Reduced probability to allow some original images\n",
    "    switch_prob=0.5,\n",
    "    mode='batch',\n",
    "    label_smoothing=0.1,\n",
    "    num_classes=NUM_CLASSES\n",
    ")"
   ]
  },
  {
   "cell_type": "markdown",
   "id": "3849005a-fdca-4391-8bd5-a6ac7a2f6cb1",
   "metadata": {},
   "source": [
    "# Model"
   ]
  },
  {
   "cell_type": "code",
   "execution_count": 16,
   "id": "3beed236-132c-426f-82ae-3a4e79352170",
   "metadata": {},
   "outputs": [],
   "source": [
    "model = timm.create_model('vit_base_patch16_384', pretrained=True, num_classes=NUM_CLASSES)"
   ]
  },
  {
   "cell_type": "code",
   "execution_count": 17,
   "id": "1c3e66be-fe31-45e8-9a10-c013516fdb92",
   "metadata": {},
   "outputs": [
    {
     "name": "stderr",
     "output_type": "stream",
     "text": [
      "/opt/anaconda3/lib/python3.12/site-packages/torchvision/transforms/v2/functional/_geometry.py:309: UserWarning: Anti-alias option is always applied for PIL Image input. Argument antialias is ignored.\n",
      "  warnings.warn(\"Anti-alias option is always applied for PIL Image input. Argument antialias is ignored.\")\n"
     ]
    },
    {
     "data": {
      "image/jpeg": "[encoded data removed]",
      "image/png": "[encoded data removed]",
      "text/plain": [
       "<PIL.Image.Image image mode=RGB size=100x100>"
      ]
     },
     "metadata": {},
     "output_type": "display_data"
    }
   ],
   "source": [
    "patch_kernels = model.patch_embed.proj.weight\n",
    "interpooled_patch_embedding = torch.nn.functional.interpolate(patch_kernels, size=(8,8), mode=\"bicubic\")\n",
    "visualize(interpooled_patch_embedding[59]).show()"
   ]
  },
  {
   "cell_type": "code",
   "execution_count": 18,
   "id": "0d80cc7b-1026-4b3f-8770-ab62d1bf1951",
   "metadata": {},
   "outputs": [
    {
     "name": "stdout",
     "output_type": "stream",
     "text": [
      "torch.Size([1, 577, 768])\n",
      "torch.Size([1, 64, 768])\n"
     ]
    }
   ],
   "source": [
    "pos_embed = model.pos_embed\n",
    "print(pos_embed.shape)\n",
    "pos_embed = pos_embed.reshape(577, 768)\n",
    "cls_pos_embedding, pos_embed = torch.split(pos_embed, [1, 576])\n",
    "pos_embed = pos_embed.reshape(24, 24, 768).permute(2, 0, 1)\n",
    "pos_embed.shape\n",
    "pos_embed = torch.nn.functional.interpolate(pos_embed.unsqueeze(0), size=(8, 8), mode=\"bicubic\")\n",
    "pos_embed = pos_embed.reshape(1, 768, 64).permute(0, 2, 1)\n",
    "print(pos_embed.shape)\n",
    "pos_embed = torch.cat([pos_embed, cls_pos_embedding.unsqueeze(0)], dim=1)"
   ]
  },
  {
   "cell_type": "code",
   "execution_count": 19,
   "id": "f757151f-6ba4-4b63-af2d-f82037bef2a9",
   "metadata": {},
   "outputs": [],
   "source": [
    "model.pos_embed = torch.nn.Parameter(pos_embed)\n",
    "model.patch_embed.proj = torch.nn.Conv2d(3, 768, kernel_size=(8, 8), stride=(8, 8))\n",
    "model.patch_embed.proj.weight = torch.nn.Parameter(interpooled_patch_embedding)\n",
    "model.img_size = 64\n",
    "model.patch_embed.img_size = (64, 64)"
   ]
  },
  {
   "cell_type": "code",
   "execution_count": 20,
   "id": "ddaf3af2-3c2e-4094-93bc-90c259064351",
   "metadata": {},
   "outputs": [
    {
     "name": "stdout",
     "output_type": "stream",
     "text": [
      "Using device: cuda\n"
     ]
    }
   ],
   "source": [
    "device = torch.device(\"cuda\" if torch.cuda.is_available() else \"cpu\")\n",
    "print(f\"Using device: {device}\")\n",
    "model = model.to(device)"
   ]
  },
  {
   "cell_type": "code",
   "execution_count": 21,
   "id": "63911c64-7406-42ea-b806-34f0f1f5dc83",
   "metadata": {},
   "outputs": [
    {
     "data": {
      "text/plain": [
       "'cuda'"
      ]
     },
     "execution_count": 21,
     "metadata": {},
     "output_type": "execute_result"
    }
   ],
   "source": [
    "device.type"
   ]
  },
  {
   "cell_type": "code",
   "execution_count": 22,
   "id": "5809fabe-a88a-429c-9279-aa1121ee2247",
   "metadata": {},
   "outputs": [
    {
     "data": {
      "text/plain": [
       "<All keys matched successfully>"
      ]
     },
     "execution_count": 22,
     "metadata": {},
     "output_type": "execute_result"
    }
   ],
   "source": [
    "model.load_state_dict(torch.load(BASE_MODEL, weights_only=True, map_location=device))"
   ]
  },
  {
   "cell_type": "code",
   "execution_count": 23,
   "id": "bb7102ac-83df-48b6-b95b-169a7eea1854",
   "metadata": {},
   "outputs": [],
   "source": [
    "model.eval()\n",
    "for param in model.parameters():\n",
    "    param.requires_grad = False"
   ]
  },
  {
   "cell_type": "markdown",
   "id": "3dbaad8c-cef0-402f-a0b8-fab96f0bf39f",
   "metadata": {},
   "source": [
    "Evaluation of model performances"
   ]
  },
  {
   "cell_type": "code",
   "execution_count": 49,
   "id": "e3758d38-564e-4f20-aeb4-3e74d717ab22",
   "metadata": {},
   "outputs": [
    {
     "name": "stderr",
     "output_type": "stream",
     "text": [
      "Testing Accuracy: 100%|███████████████████████████████████████████████████████████████████████████████| 157/157 [00:15<00:00, 10.27it/s]"
     ]
    },
    {
     "name": "stdout",
     "output_type": "stream",
     "text": [
      "Benchmarking GPU\n"
     ]
    },
    {
     "name": "stderr",
     "output_type": "stream",
     "text": [
      "\n"
     ]
    },
    {
     "name": "stdout",
     "output_type": "stream",
     "text": [
      "Benchmarking batch size 1\n",
      "Benchmarking batch size 2\n",
      "Benchmarking batch size 4\n",
      "Benchmarking batch size 8\n",
      "Benchmarking batch size 16\n",
      "Benchmarking batch size 32\n",
      "Benchmarking batch size 64\n",
      "Benchmarking CPU\n",
      "Benchmarking batch size 1\n",
      "Benchmarking batch size 2\n",
      "Benchmarking batch size 4\n",
      "Benchmarking batch size 8\n",
      "Benchmarking batch size 16\n",
      "Benchmarking batch size 32\n",
      "Benchmarking batch size 64\n"
     ]
    }
   ],
   "source": [
    "import time\n",
    "def benchmark_model(model, device, gpu=True, cpu=False, WARMUPS=10, batch_sizes=[1,2,4,8,16,32,64], n_iters=[50,25,10,10,10,10,10], acc=True, cpu_acc=False):\n",
    "    def test_accuracy(model, device, WARMUPS=10, batch_sizes=[1,2,4,8,16,32,64], n_iters=[50,25,10,10,10,10,10], acc=True, cpu_acc=False):\n",
    "        if not cpu_acc and device.type == \"cpu\":\n",
    "            raise AssertionError(\"Set cpu_acc=True if you want to check accuracy with cpu, otherwise set acc=False to skip accuracy benchmark\")\n",
    "        model.to(device)\n",
    "        test_loader = torch.utils.data.DataLoader(\n",
    "            TorchDatasetWrapper(valid_dataset, transform_valid),\n",
    "            batch_size=max(batch_sizes),\n",
    "            shuffle=False,\n",
    "            num_workers=2,  \n",
    "            pin_memory=True,\n",
    "            prefetch_factor=4,\n",
    "            persistent_workers=True\n",
    "        )\n",
    "        test_loader_tqdm = tqdm(test_loader, desc=f\"Testing Accuracy\")\n",
    "        total=0\n",
    "        correct=0\n",
    "        for images, labels in test_loader_tqdm:\n",
    "            images, labels = images.to(device), labels.to(device)\n",
    "            outputs = model(images)\n",
    "            _, predicted = outputs.max(1)\n",
    "            batch_correct = predicted.eq(labels).sum().item()\n",
    "            correct += batch_correct\n",
    "            total += len(labels)\n",
    "        return correct/total\n",
    "\n",
    "    def test_gpu_speed(model, device, WARMUPS=10, batch_sizes=[1,2,4,8,16,32,64], n_iters=[50,25,10,10,10,10,10], acc=True, cpu_acc=False):\n",
    "        print(\"Benchmarking GPU\")\n",
    "        start_event = torch.cuda.Event(enable_timing=True)\n",
    "        end_event = torch.cuda.Event(enable_timing=True)\n",
    "        results = []\n",
    "        model.to(device)\n",
    "        for batch_size,  n_iter in zip(batch_sizes, n_iters):\n",
    "            test_loader = torch.utils.data.DataLoader(\n",
    "                TorchDatasetWrapper(valid_dataset, transform_valid),\n",
    "                batch_size=batch_size,\n",
    "                shuffle=False,\n",
    "                num_workers=2,  \n",
    "                pin_memory=True,\n",
    "                prefetch_factor=4,\n",
    "                persistent_workers=True\n",
    "            )\n",
    "            \n",
    "            images, labels = next(iter(test_loader))\n",
    "            images, labels = images.to(device), labels.to(device)\n",
    "            for _ in range(WARMUPS):\n",
    "                _ = model(images)\n",
    "            print(f\"Benchmarking batch size {batch_size}\")\n",
    "            torch.cuda.synchronize()\n",
    "            start_event.record()\n",
    "            with torch.no_grad():\n",
    "                for _ in range(n_iter):\n",
    "                    _ = model(images)\n",
    "            end_event.record()\n",
    "            torch.cuda.synchronize() \n",
    "            elapsed = start_event.elapsed_time(end_event) / 100\n",
    "            avg_time_per_batch = elapsed / n_iter * 1000  # ms per batch\n",
    "            avg_time_per_image = avg_time_per_batch / batch_size   # ms per image\n",
    "            throughput = 1000 / avg_time_per_image         # images/second\n",
    "            batch_result = {\"bs\":batch_size, \"mode\":\"gpu\",}\n",
    "            batch_result[\"values\"] = {\n",
    "                \"time_per_batch_ms\": avg_time_per_batch,\n",
    "                \"time_per_image_ms\": avg_time_per_image,\n",
    "                \"throughput_imgs/s\": throughput\n",
    "            }\n",
    "            results.append(batch_result)\n",
    "        return results\n",
    "            \n",
    "    def test_cpu_speed(model, device, WARMUPS=10, batch_sizes=[1,2,4,8,16,32,64], n_iters=[64,32,16,8,4,2,1], acc=True, cpu_acc=False):\n",
    "        print(\"Benchmarking CPU\")\n",
    "        results = []\n",
    "        model = model.to(torch.device(\"cpu\"))\n",
    "        for batch_size,  n_iter in zip(batch_sizes, n_iters):\n",
    "            test_loader = torch.utils.data.DataLoader(\n",
    "                TorchDatasetWrapper(valid_dataset, transform_valid),\n",
    "                batch_size=batch_size,\n",
    "                shuffle=False,\n",
    "                num_workers=2,  \n",
    "                pin_memory=False,\n",
    "                persistent_workers=False\n",
    "            )\n",
    "            images, labels = next(iter(test_loader))\n",
    "            for _ in range(WARMUPS):\n",
    "                _ = model(images)\n",
    "            print(f\"Benchmarking batch size {batch_size}\")\n",
    "            start_time = time.time()\n",
    "            with torch.no_grad():\n",
    "                for _ in range(n_iter):\n",
    "                    _ = model(images)\n",
    "            elapsed = time.time() - start_time\n",
    "            avg_time_per_batch = elapsed / n_iter * 1000  # ms per batch\n",
    "            avg_time_per_image = avg_time_per_batch / batch_size   # ms per image\n",
    "            throughput = 1000 / avg_time_per_image         # images/second\n",
    "            batch_result = {\"bs\":batch_size, \"mode\":\"cpu\",}\n",
    "            batch_result[\"values\"] = {\n",
    "                \"time_per_batch_ms\": avg_time_per_batch,\n",
    "                \"time_per_image_ms\": avg_time_per_image,\n",
    "                \"throughput_imgs/s\": throughput\n",
    "            }\n",
    "            results.append(batch_result)\n",
    "        return results\n",
    "\n",
    "        def process_results(results_gpu, results_cpu):\n",
    "            results = []\n",
    "            if results_gpu and results_cpu: \n",
    "                results_zipped = zip(results_gpu, results_cpu)\n",
    "            elif results_gpu:\n",
    "                results_zipped = zip(results_gpu, [[]]*len(results_gpu))\n",
    "            elif results_cpu:\n",
    "                results_zipped = zip(results_cpu, [[]]*len(results_gpu))\n",
    "        \n",
    "            for result_gpu, result_cpu in results_zipped:\n",
    "                dic = []\n",
    "                if result_gpu: \n",
    "                    batch_size = result_gpu.pop(\"bs\")\n",
    "                    dic.append(result_gpu)\n",
    "                if result_cpu: \n",
    "                    batch_size = result_cpu.pop(\"bs\")\n",
    "                    dic.append(result_cpu)\n",
    "                results.append({\"batch_size\":batch_size,\n",
    "                               \"value\":dic\n",
    "                               })\n",
    "            return results\n",
    "        \n",
    "    model.eval()\n",
    "    for param in model.parameters():\n",
    "        param.requires_grad = False\n",
    "    \n",
    "    if acc:\n",
    "        accuracy = test_accuracy(model, device, WARMUPS, batch_sizes, n_iters, acc, cpu_acc)\n",
    "    if gpu:\n",
    "        results_gpu = test_gpu_speed(model, device, WARMUPS, batch_sizes, n_iters, acc, cpu_acc)\n",
    "    if cpu:\n",
    "        results_cpu = test_cpu_speed(model, device, WARMUPS, batch_sizes, [64,32,16,8,4,2,1], acc, cpu_acc)\n",
    "    return process_results(results_gpu, results_cpu), accuracy\n",
    "\n",
    "benchmark, accuracy = benchmark_model(model, device, gpu=True, cpu=True)"
   ]
  },
  {
   "cell_type": "code",
   "execution_count": null,
   "id": "b802be35-ffb2-4498-9bbe-286d31f055ed",
   "metadata": {},
   "outputs": [],
   "source": []
  }
 ],
 "metadata": {
  "kernelspec": {
   "display_name": "Python 3 (ipykernel)",
   "language": "python",
   "name": "python3"
  },
  "language_info": {
   "codemirror_mode": {
    "name": "ipython",
    "version": 3
   },
   "file_extension": ".py",
   "mimetype": "text/x-python",
   "name": "python",
   "nbconvert_exporter": "python",
   "pygments_lexer": "ipython3",
   "version": "3.12.7"
  }
 },
 "nbformat": 4,
 "nbformat_minor": 5
}
