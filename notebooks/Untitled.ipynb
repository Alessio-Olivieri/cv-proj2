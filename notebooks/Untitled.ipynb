{
 "cells": [
  {
   "cell_type": "code",
   "execution_count": 1,
   "id": "4e0aaf57-d687-4fc0-bdc5-02517b781387",
   "metadata": {},
   "outputs": [
    {
     "name": "stderr",
     "output_type": "stream",
     "text": [
      "/tmp/ipykernel_1686/4277671624.py:38: DeprecationWarning: Importing display from IPython.core.display is deprecated since IPython 7.14, please import from IPython display\n",
      "  from IPython.core.display import display, HTML\n"
     ]
    }
   ],
   "source": [
    "# Install the Prisma repo library (update version number or clone from source for latest functionality)\n",
    "\n",
    "from datasets import load_dataset\n",
    "import PIL\n",
    "import torch\n",
    "from torchvision.transforms import v2\n",
    "import numpy as np\n",
    "import matplotlib.pyplot as plt\n",
    "import torchvision\n",
    "import os\n",
    "import timm\n",
    "from timm.loss import SoftTargetCrossEntropy\n",
    "import pickle\n",
    "from torch.utils.tensorboard import SummaryWriter\n",
    "from tqdm import tqdm\n",
    "import vit_prisma\n",
    "from vit_prisma.utils import prisma_utils\n",
    "\n",
    "from vit_prisma.prisma_tools.loading_from_pretrained import convert_timm_weights\n",
    "from vit_prisma.models.base_vit import HookedViT\n",
    "from vit_prisma.configs.HookedViTConfig import HookedViTConfig\n",
    "\n",
    "\n",
    "import numpy as np\n",
    "import torch\n",
    "from fancy_einsum import einsum\n",
    "from collections import defaultdict\n",
    "\n",
    "import plotly.graph_objs as go\n",
    "import plotly.express as px\n",
    "\n",
    "import matplotlib.colors as mcolors\n",
    "\n",
    "from PIL import Image\n",
    "from torchvision import transforms\n",
    "import matplotlib.pyplot as plt\n",
    "\n",
    "from IPython.core.display import display, HTML\n",
    "\n",
    "import timm\n",
    "from vit_prisma.models.layers.head import Head\n",
    "\n",
    "\n"
   ]
  },
  {
   "cell_type": "code",
   "execution_count": 2,
   "id": "30970937-4c3f-4077-a1ef-6c67875cced2",
   "metadata": {},
   "outputs": [],
   "source": [
    "torch.backends.cudnn.benchmark = True\n",
    "\n",
    "NUM_CLASSES = 200\n",
    "BATCH_SIZE = 64  \n",
    "NUM_EPOCHS = 10  \n",
    "LEARNING_RATE = 1e-4  \n",
    "WEIGHT_DECAY = 0.01  \n",
    "IMAGE_SIZE = 384\n",
    "LOG_INTERVAL = 100 \n",
    "DATA_DIR = \"data/\"\n",
    "MODEL_DIRS = DATA_DIR+\"models/\"\n",
    "BASE_MODEL = MODEL_DIRS+\"interpolated_vit_tiny_imagenet.pth\"\n",
    "TRAIN_DATA = DATA_DIR+\"train.pkl\"\n",
    "VALID_DATA = DATA_DIR+\"valid.pkl\""
   ]
  },
  {
   "cell_type": "code",
   "execution_count": 4,
   "id": "a2260315-cda0-48ef-8d46-40809e1301cc",
   "metadata": {},
   "outputs": [
    {
     "name": "stderr",
     "output_type": "stream",
     "text": [
      "/tmp/ipykernel_1686/2712455202.py:1: FutureWarning: You are using `torch.load` with `weights_only=False` (the current default value), which uses the default pickle module implicitly. It is possible to construct malicious pickle data which will execute arbitrary code during unpickling (See https://github.com/pytorch/pytorch/blob/main/SECURITY.md#untrusted-models for more details). In a future release, the default value for `weights_only` will be flipped to `True`. This limits the functions that could be executed during unpickling. Arbitrary objects will no longer be allowed to be loaded via this mode unless they are explicitly allowlisted by the user via `torch.serialization.add_safe_globals`. We recommend you start setting `weights_only=True` for any use case where you don't have full control of the loaded file. Please open an issue on GitHub for any issues related to this experimental feature.\n",
      "  checkpoint_loaded = torch.load(MODEL_DIRS+\"checkpoint_base_hooked1.pth\")\n"
     ]
    },
    {
     "name": "stdout",
     "output_type": "stream",
     "text": [
      "ln_pre not set\n"
     ]
    },
    {
     "data": {
      "text/plain": [
       "<All keys matched successfully>"
      ]
     },
     "execution_count": 4,
     "metadata": {},
     "output_type": "execute_result"
    }
   ],
   "source": [
    "checkpoint_loaded = torch.load(MODEL_DIRS+\"checkpoint_base_hooked1.pth\")\n",
    "model_loaded = HookedViT(checkpoint_loaded[\"config\"])\n",
    "model_loaded.load_state_dict(checkpoint_loaded['model_state_dict'])"
   ]
  }
 ],
 "metadata": {
  "kernelspec": {
   "display_name": "Python 3 (ipykernel)",
   "language": "python",
   "name": "python3"
  },
  "language_info": {
   "codemirror_mode": {
    "name": "ipython",
    "version": 3
   },
   "file_extension": ".py",
   "mimetype": "text/x-python",
   "name": "python",
   "nbconvert_exporter": "python",
   "pygments_lexer": "ipython3",
   "version": "3.12.7"
  }
 },
 "nbformat": 4,
 "nbformat_minor": 5
}
