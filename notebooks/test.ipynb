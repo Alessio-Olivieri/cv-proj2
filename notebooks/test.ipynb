{
 "cells": [
  {
   "cell_type": "code",
   "execution_count": 2,
   "metadata": {},
   "outputs": [
    {
     "name": "stdout",
     "output_type": "stream",
     "text": [
      "/home/lexyo/Dev/cv-proj2/notebooks/../src/modules/paths.py\n"
     ]
    },
    {
     "name": "stderr",
     "output_type": "stream",
     "text": [
      "/home/lexyo/Dev/cv-proj2/.venv/lib/python3.12/site-packages/tqdm/auto.py:21: TqdmWarning: IProgress not found. Please update jupyter and ipywidgets. See https://ipywidgets.readthedocs.io/en/stable/user_install.html\n",
      "  from .autonotebook import tqdm as notebook_tqdm\n"
     ]
    }
   ],
   "source": [
    "import sys\n",
    "import torch\n",
    "import torch.nn as nn\n",
    "from torch.utils.data import DataLoader\n",
    "sys.path.append('../src')\n",
    "from modules import (\n",
    "                    paths,\n",
    "                    dataset,\n",
    "                    model,\n",
    "                    acdc\n",
    "                    )\n",
    "from torchvision.transforms import v2"
   ]
  },
  {
   "cell_type": "code",
   "execution_count": 3,
   "metadata": {},
   "outputs": [],
   "source": [
    "toy = True\n",
    "batch_size = 2"
   ]
  },
  {
   "cell_type": "code",
   "execution_count": 4,
   "metadata": {},
   "outputs": [
    {
     "name": "stdout",
     "output_type": "stream",
     "text": [
      "laoding toy datasets\n",
      "Loading dataset from /home/lexyo/Dev/cv-proj2/notebooks/../data/train.pkl\n",
      "Loading dataset from /home/lexyo/Dev/cv-proj2/notebooks/../data/valid.pkl\n",
      "train:\n",
      "Dataset({\n",
      "    features: ['image', 'label'],\n",
      "    num_rows: 400\n",
      "})\n",
      "validation:\n",
      "Dataset({\n",
      "    features: ['image', 'label'],\n",
      "    num_rows: 400\n",
      "})\n"
     ]
    }
   ],
   "source": [
    "import importlib\n",
    "importlib.reload(dataset)\n",
    "if toy == True:\n",
    "    print(\"laoding toy datasets\")\n",
    "    train_dataset = dataset.load(\"train\", tiny=True, stop=2)\n",
    "    val_dataset = dataset.load(\"valid\", tiny=True, stop=2)\n",
    "\n",
    "else:\n",
    "    print(\"loading full dataet\")\n",
    "    train_dataset = dataset.load(\"train\", stop=2)\n",
    "    val_dataset = dataset.load(\"valid\", stop=2)\n",
    "print(\"train:\\n\"+str(train_dataset))\n",
    "print(\"validation:\\n\"+str(val_dataset))\n"
   ]
  },
  {
   "cell_type": "code",
   "execution_count": 5,
   "metadata": {},
   "outputs": [],
   "source": [
    "transform_train = v2.Compose([\n",
    "    v2.Lambda(lambda x: x.convert('RGB')),  # some images are in grayscale\n",
    "    v2.ToImage(), \n",
    "    v2.ToDtype(torch.float32, scale=True),\n",
    "    v2.RandomHorizontalFlip(),\n",
    "    v2.RandAugment(),\n",
    "    v2.Normalize(mean=[0.485, 0.456, 0.406], std=[0.229, 0.224, 0.225]),\n",
    "    v2.RandomErasing(p=0.25),\n",
    "\n",
    "])\n",
    "\n",
    "transform_valid = v2.Compose([\n",
    "    v2.Lambda(lambda x: x.convert('RGB')),  # some images are in grayscale\n",
    "    v2.ToImage(), \n",
    "    v2.ToDtype(torch.float32, scale=True),\n",
    "    v2.Normalize((0.485, 0.456, 0.406), (0.229, 0.224, 0.225)),\n",
    "])"
   ]
  },
  {
   "cell_type": "code",
   "execution_count": 6,
   "metadata": {},
   "outputs": [],
   "source": [
    "train_loader = DataLoader(\n",
    "    dataset.TorchDatasetWrapper(train_dataset, transform_train),\n",
    "    batch_size=batch_size,\n",
    "    shuffle=True,\n",
    "    num_workers=2,  \n",
    "    pin_memory=True,\n",
    "    prefetch_factor=4,\n",
    "    persistent_workers=True\n",
    ")\n",
    "\n",
    "val_loader = DataLoader(\n",
    "    dataset.TorchDatasetWrapper(val_dataset, transform_valid),\n",
    "    batch_size=3,\n",
    "    shuffle=False,\n",
    "    num_workers=2,  \n",
    "    pin_memory=True,\n",
    "    prefetch_factor=4,\n",
    "    persistent_workers=True\n",
    ")"
   ]
  },
  {
   "cell_type": "code",
   "execution_count": 7,
   "metadata": {},
   "outputs": [
    {
     "name": "stderr",
     "output_type": "stream",
     "text": [
      "/home/lexyo/Dev/cv-proj2/.venv/lib/python3.12/site-packages/torch/utils/data/dataloader.py:665: UserWarning: 'pin_memory' argument is set as true but no accelerator is found, then device pinned memory won't be used.\n",
      "  warnings.warn(warn_msg)\n"
     ]
    }
   ],
   "source": [
    "batch = next(iter(train_loader))"
   ]
  },
  {
   "cell_type": "code",
   "execution_count": 8,
   "metadata": {},
   "outputs": [
    {
     "data": {
      "text/plain": [
       "ViT(\n",
       "  (embedding): Embeddings(\n",
       "    (patch_embeddings): PatchEmbeddings(\n",
       "      (projection): Conv2d(3, 48, kernel_size=(8, 8), stride=(8, 8))\n",
       "    )\n",
       "    (dropout): Dropout(p=0.0, inplace=False)\n",
       "  )\n",
       "  (encoder): Encoder(\n",
       "    (blocks): ModuleList(\n",
       "      (0-3): 4 x EncoderBlock(\n",
       "        (norm1): LayerNorm((48,), eps=1e-05, elementwise_affine=True)\n",
       "        (norm2): LayerNorm((48,), eps=1e-05, elementwise_affine=True)\n",
       "        (attention): MultiHeadAttention(\n",
       "          (heads): ModuleList(\n",
       "            (0-3): 4 x AttentionHead(\n",
       "              (key): Linear(in_features=48, out_features=12, bias=True)\n",
       "              (query): Linear(in_features=48, out_features=12, bias=True)\n",
       "              (value): Linear(in_features=48, out_features=12, bias=True)\n",
       "              (dropout): Dropout(p=0.0, inplace=False)\n",
       "            )\n",
       "          )\n",
       "          (output_projection): Linear(in_features=48, out_features=48, bias=True)\n",
       "          (output_dropout): Dropout(p=0.0, inplace=False)\n",
       "        )\n",
       "        (mlp): MLP(\n",
       "          (dense1): Linear(in_features=48, out_features=192, bias=True)\n",
       "          (activation): GELU(approximate='none')\n",
       "          (dense2): Linear(in_features=192, out_features=48, bias=True)\n",
       "          (dropout): Dropout(p=0.0, inplace=False)\n",
       "        )\n",
       "      )\n",
       "    )\n",
       "  )\n",
       "  (classifier): Linear(in_features=48, out_features=10, bias=True)\n",
       ")"
      ]
     },
     "execution_count": 8,
     "metadata": {},
     "output_type": "execute_result"
    }
   ],
   "source": [
    "importlib.reload(model)\n",
    "config = {\n",
    "    \"patch_size\": 8,\n",
    "    \"hidden_size\": 48,\n",
    "    \"num_hidden_layers\": 4,\n",
    "    \"num_attention_heads\": 4,\n",
    "    \"intermediate_size\": 4 * 48,\n",
    "    \"hidden_dropout_prob\": 0.0,\n",
    "    \"attention_probs_dropout_prob\": 0.0,\n",
    "    \"initializer_range\": 0.02,\n",
    "    \"image_size\": 64,\n",
    "    \"num_classes\": 10,\n",
    "    \"num_channels\": 3,\n",
    "    \"qkv_bias\": True,\n",
    "}\n",
    "# embedding = model.Embeddings(config)\n",
    "# x = embedding(batch[0])\n",
    "# single = model.AttentionHead(1000, 10, 0.1)\n",
    "# single(x)\n",
    "# multi = model.MultiHeadAttention(config)\n",
    "# multi(x, output_attentions = True)\n",
    "# encoder = model.Encoder(config)\n",
    "# encoder(x)\n",
    "# input = torch.ones(config[\"hidden_size\"])\n",
    "# bad_input = torch.ones(config[\"hidden_size\"]) +100000\n",
    "m = model.ViT(config)\n",
    "m\n"
   ]
  },
  {
   "cell_type": "code",
   "execution_count": 28,
   "metadata": {},
   "outputs": [
    {
     "name": "stdout",
     "output_type": "stream",
     "text": [
      "{'dense1': tensor([-9017.3506, -5011.7671, -5880.6147,  -729.9178],\n",
      "       grad_fn=<ViewBackward0>), 'dense2': tensor([ 0.0691, -0.0385], grad_fn=<ViewBackward0>)}\n"
     ]
    }
   ],
   "source": [
    "importlib.reload(acdc)\n",
    "from collections import OrderedDict\n",
    "# Change outputs\n",
    "# with acdc.ActivationPatch(m.dense2, acdc.replace_outputs, patch_fn_args=torch.ones(config[\"hidden_size\"]), verbose=True):\n",
    "#     m(input)\n",
    "\n",
    "# Saving inputs\n",
    "m = nn.Sequential(OrderedDict([(\"l1\",nn.Linear(1,4)),\n",
    "                   (\"act\", nn.ReLU()),\n",
    "                   (\"l2\", nn.Linear(4,2))]))\n",
    "with acdc.SaveActivations([(m.l1, \"dense1\"), (m.l2, \"dense2\")]) as ctx:\n",
    "    m(torch.Tensor([10000]))\n",
    "    activations = ctx.get_activations()\n",
    "\n",
    "print(activations)"
   ]
  },
  {
   "cell_type": "code",
   "execution_count": 29,
   "metadata": {},
   "outputs": [
    {
     "name": "stdout",
     "output_type": "stream",
     "text": [
      "tensor([ 0.0691, -0.0385], grad_fn=<ViewBackward0>)\n",
      "{'dense1': tensor([-0.9010,  0.3407, -0.3559, -0.3262], grad_fn=<ViewBackward0>), 'dense2': tensor([ 0.0691, -0.0385], grad_fn=<ViewBackward0>)}\n"
     ]
    }
   ],
   "source": [
    "importlib.reload(acdc)\n",
    "with acdc.ReplaceActivations(m.l2, activations[\"dense2\"]):\n",
    "    with acdc.SaveActivations([(m.l1, \"dense1\"), (m.l2, \"dense2\")]) as ctx:\n",
    "        print(m(torch.Tensor([1])))\n",
    "        activations1 = ctx.get_activations()\n",
    "    \n",
    "print(activations1)"
   ]
  }
 ],
 "metadata": {
  "kernelspec": {
   "display_name": "ml-venv-cpu",
   "language": "python",
   "name": "python3"
  },
  "language_info": {
   "codemirror_mode": {
    "name": "ipython",
    "version": 3
   },
   "file_extension": ".py",
   "mimetype": "text/x-python",
   "name": "python",
   "nbconvert_exporter": "python",
   "pygments_lexer": "ipython3",
   "version": "3.12.3"
  }
 },
 "nbformat": 4,
 "nbformat_minor": 2
}
