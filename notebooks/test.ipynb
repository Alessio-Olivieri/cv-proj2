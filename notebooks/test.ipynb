{
 "cells": [
  {
   "cell_type": "code",
   "execution_count": 1,
   "metadata": {},
   "outputs": [
    {
     "name": "stdout",
     "output_type": "stream",
     "text": [
      "/home/lexyo/Dev/cv-proj2/notebooks/../src/modules/paths.py\n"
     ]
    },
    {
     "name": "stderr",
     "output_type": "stream",
     "text": [
      "/home/lexyo/Dev/cv-proj2/.venv/lib/python3.12/site-packages/tqdm/auto.py:21: TqdmWarning: IProgress not found. Please update jupyter and ipywidgets. See https://ipywidgets.readthedocs.io/en/stable/user_install.html\n",
      "  from .autonotebook import tqdm as notebook_tqdm\n"
     ]
    }
   ],
   "source": [
    "import sys\n",
    "from torch.utils.data import DataLoader\n",
    "import torch\n",
    "sys.path.append('../src')\n",
    "from modules import (\n",
    "                    paths,\n",
    "                    dataset,\n",
    "                    model\n",
    "                    )\n",
    "from torchvision.transforms import v2"
   ]
  },
  {
   "cell_type": "code",
   "execution_count": 2,
   "metadata": {},
   "outputs": [],
   "source": [
    "toy = True\n",
    "batch_size = 2"
   ]
  },
  {
   "cell_type": "code",
   "execution_count": 3,
   "metadata": {},
   "outputs": [
    {
     "name": "stdout",
     "output_type": "stream",
     "text": [
      "laoding toy datasets\n",
      "Loading dataset from /home/lexyo/Dev/cv-proj2/notebooks/../data/train.pkl\n",
      "Loading dataset from /home/lexyo/Dev/cv-proj2/notebooks/../data/valid.pkl\n",
      "train:\n",
      "Dataset({\n",
      "    features: ['image', 'label'],\n",
      "    num_rows: 400\n",
      "})\n",
      "validation:\n",
      "Dataset({\n",
      "    features: ['image', 'label'],\n",
      "    num_rows: 400\n",
      "})\n"
     ]
    }
   ],
   "source": [
    "import importlib\n",
    "importlib.reload(dataset)\n",
    "if toy == True:\n",
    "    print(\"laoding toy datasets\")\n",
    "    train_dataset = dataset.load(\"train\", tiny=True, stop=2)\n",
    "    val_dataset = dataset.load(\"valid\", tiny=True, stop=2)\n",
    "\n",
    "else:\n",
    "    print(\"loading full dataet\")\n",
    "    train_dataset = dataset.load(\"train\", stop=2)\n",
    "    val_dataset = dataset.load(\"valid\", stop=2)\n",
    "print(\"train:\\n\"+str(train_dataset))\n",
    "print(\"validation:\\n\"+str(val_dataset))\n"
   ]
  },
  {
   "cell_type": "code",
   "execution_count": 4,
   "metadata": {},
   "outputs": [],
   "source": [
    "transform_train = v2.Compose([\n",
    "    v2.Lambda(lambda x: x.convert('RGB')),  # some images are in grayscale\n",
    "    v2.ToImage(), \n",
    "    v2.ToDtype(torch.float32, scale=True),\n",
    "    v2.RandomHorizontalFlip(),\n",
    "    v2.RandAugment(),\n",
    "    v2.Normalize(mean=[0.485, 0.456, 0.406], std=[0.229, 0.224, 0.225]),\n",
    "    v2.RandomErasing(p=0.25),\n",
    "\n",
    "])\n",
    "\n",
    "transform_valid = v2.Compose([\n",
    "    v2.Lambda(lambda x: x.convert('RGB')),  # some images are in grayscale\n",
    "    v2.ToImage(), \n",
    "    v2.ToDtype(torch.float32, scale=True),\n",
    "    v2.Normalize((0.485, 0.456, 0.406), (0.229, 0.224, 0.225)),\n",
    "])"
   ]
  },
  {
   "cell_type": "code",
   "execution_count": 5,
   "metadata": {},
   "outputs": [],
   "source": [
    "train_loader = DataLoader(\n",
    "    dataset.TorchDatasetWrapper(train_dataset, transform_train),\n",
    "    batch_size=batch_size,\n",
    "    shuffle=True,\n",
    "    num_workers=2,  \n",
    "    pin_memory=True,\n",
    "    prefetch_factor=4,\n",
    "    persistent_workers=True\n",
    ")\n",
    "\n",
    "val_loader = DataLoader(\n",
    "    dataset.TorchDatasetWrapper(val_dataset, transform_valid),\n",
    "    batch_size=3,\n",
    "    shuffle=False,\n",
    "    num_workers=2,  \n",
    "    pin_memory=True,\n",
    "    prefetch_factor=4,\n",
    "    persistent_workers=True\n",
    ")"
   ]
  },
  {
   "cell_type": "code",
   "execution_count": 6,
   "metadata": {},
   "outputs": [
    {
     "name": "stderr",
     "output_type": "stream",
     "text": [
      "/home/lexyo/Dev/cv-proj2/.venv/lib/python3.12/site-packages/torch/utils/data/dataloader.py:665: UserWarning: 'pin_memory' argument is set as true but no accelerator is found, then device pinned memory won't be used.\n",
      "  warnings.warn(warn_msg)\n"
     ]
    }
   ],
   "source": [
    "batch = next(iter(train_loader))"
   ]
  },
  {
   "cell_type": "code",
   "execution_count": 37,
   "metadata": {},
   "outputs": [
    {
     "ename": "KeyError",
     "evalue": "'initializer_range'",
     "output_type": "error",
     "traceback": [
      "\u001b[31m---------------------------------------------------------------------------\u001b[39m",
      "\u001b[31mKeyError\u001b[39m                                  Traceback (most recent call last)",
      "\u001b[36mCell\u001b[39m\u001b[36m \u001b[39m\u001b[32mIn[37]\u001b[39m\u001b[32m, line 24\u001b[39m\n\u001b[32m      2\u001b[39m {\n\u001b[32m      3\u001b[39m     \u001b[33m\"\u001b[39m\u001b[33mpatch_size\u001b[39m\u001b[33m\"\u001b[39m: \u001b[32m8\u001b[39m,\n\u001b[32m      4\u001b[39m     \u001b[33m\"\u001b[39m\u001b[33mhidden_size\u001b[39m\u001b[33m\"\u001b[39m: \u001b[32m48\u001b[39m,\n\u001b[32m   (...)\u001b[39m\u001b[32m     14\u001b[39m     \u001b[33m\"\u001b[39m\u001b[33mqkv_bias\u001b[39m\u001b[33m\"\u001b[39m: \u001b[38;5;28;01mTrue\u001b[39;00m,\n\u001b[32m     15\u001b[39m }\n\u001b[32m     16\u001b[39m \u001b[38;5;66;03m# embedding = model.Embeddings(config)\u001b[39;00m\n\u001b[32m     17\u001b[39m \u001b[38;5;66;03m# x = embedding(batch[0])\u001b[39;00m\n\u001b[32m     18\u001b[39m \u001b[38;5;66;03m# single = model.AttentionHead(1000, 10, 0.1)\u001b[39;00m\n\u001b[32m   (...)\u001b[39m\u001b[32m     22\u001b[39m \u001b[38;5;66;03m# encoder = model.Encoder(config)\u001b[39;00m\n\u001b[32m     23\u001b[39m \u001b[38;5;66;03m# encoder(x)\u001b[39;00m\n\u001b[32m---> \u001b[39m\u001b[32m24\u001b[39m vit = \u001b[43mmodel\u001b[49m\u001b[43m.\u001b[49m\u001b[43mViT\u001b[49m\u001b[43m(\u001b[49m\u001b[43mconfig\u001b[49m\u001b[43m)\u001b[49m\n\u001b[32m     25\u001b[39m vit(batch[\u001b[32m0\u001b[39m], \u001b[38;5;28;01mFalse\u001b[39;00m)\n",
      "\u001b[36mFile \u001b[39m\u001b[32m~/Dev/cv-proj2/notebooks/../src/modules/model.py:298\u001b[39m, in \u001b[36mViT.__init__\u001b[39m\u001b[34m(self, config)\u001b[39m\n\u001b[32m    296\u001b[39m \u001b[38;5;28mself\u001b[39m.encoder = Encoder(config)\n\u001b[32m    297\u001b[39m \u001b[38;5;28mself\u001b[39m.classifier = nn.Linear(config[\u001b[33m\"\u001b[39m\u001b[33mhidden_size\u001b[39m\u001b[33m\"\u001b[39m], config[\u001b[33m\"\u001b[39m\u001b[33mnum_classes\u001b[39m\u001b[33m\"\u001b[39m])\n\u001b[32m--> \u001b[39m\u001b[32m298\u001b[39m \u001b[38;5;28;43mself\u001b[39;49m\u001b[43m.\u001b[49m\u001b[43mapply\u001b[49m\u001b[43m(\u001b[49m\u001b[38;5;28;43mself\u001b[39;49m\u001b[43m.\u001b[49m\u001b[43m_init_weights\u001b[49m\u001b[43m)\u001b[49m\n",
      "\u001b[36mFile \u001b[39m\u001b[32m~/Dev/cv-proj2/.venv/lib/python3.12/site-packages/torch/nn/modules/module.py:1044\u001b[39m, in \u001b[36mModule.apply\u001b[39m\u001b[34m(self, fn)\u001b[39m\n\u001b[32m   1008\u001b[39m \u001b[38;5;250m\u001b[39m\u001b[33mr\u001b[39m\u001b[33;03m\"\"\"Apply ``fn`` recursively to every submodule (as returned by ``.children()``) as well as self.\u001b[39;00m\n\u001b[32m   1009\u001b[39m \n\u001b[32m   1010\u001b[39m \u001b[33;03mTypical use includes initializing the parameters of a model\u001b[39;00m\n\u001b[32m   (...)\u001b[39m\u001b[32m   1041\u001b[39m \n\u001b[32m   1042\u001b[39m \u001b[33;03m\"\"\"\u001b[39;00m\n\u001b[32m   1043\u001b[39m \u001b[38;5;28;01mfor\u001b[39;00m module \u001b[38;5;129;01min\u001b[39;00m \u001b[38;5;28mself\u001b[39m.children():\n\u001b[32m-> \u001b[39m\u001b[32m1044\u001b[39m     \u001b[43mmodule\u001b[49m\u001b[43m.\u001b[49m\u001b[43mapply\u001b[49m\u001b[43m(\u001b[49m\u001b[43mfn\u001b[49m\u001b[43m)\u001b[49m\n\u001b[32m   1045\u001b[39m fn(\u001b[38;5;28mself\u001b[39m)\n\u001b[32m   1046\u001b[39m \u001b[38;5;28;01mreturn\u001b[39;00m \u001b[38;5;28mself\u001b[39m\n",
      "\u001b[36mFile \u001b[39m\u001b[32m~/Dev/cv-proj2/.venv/lib/python3.12/site-packages/torch/nn/modules/module.py:1044\u001b[39m, in \u001b[36mModule.apply\u001b[39m\u001b[34m(self, fn)\u001b[39m\n\u001b[32m   1008\u001b[39m \u001b[38;5;250m\u001b[39m\u001b[33mr\u001b[39m\u001b[33;03m\"\"\"Apply ``fn`` recursively to every submodule (as returned by ``.children()``) as well as self.\u001b[39;00m\n\u001b[32m   1009\u001b[39m \n\u001b[32m   1010\u001b[39m \u001b[33;03mTypical use includes initializing the parameters of a model\u001b[39;00m\n\u001b[32m   (...)\u001b[39m\u001b[32m   1041\u001b[39m \n\u001b[32m   1042\u001b[39m \u001b[33;03m\"\"\"\u001b[39;00m\n\u001b[32m   1043\u001b[39m \u001b[38;5;28;01mfor\u001b[39;00m module \u001b[38;5;129;01min\u001b[39;00m \u001b[38;5;28mself\u001b[39m.children():\n\u001b[32m-> \u001b[39m\u001b[32m1044\u001b[39m     \u001b[43mmodule\u001b[49m\u001b[43m.\u001b[49m\u001b[43mapply\u001b[49m\u001b[43m(\u001b[49m\u001b[43mfn\u001b[49m\u001b[43m)\u001b[49m\n\u001b[32m   1045\u001b[39m fn(\u001b[38;5;28mself\u001b[39m)\n\u001b[32m   1046\u001b[39m \u001b[38;5;28;01mreturn\u001b[39;00m \u001b[38;5;28mself\u001b[39m\n",
      "\u001b[36mFile \u001b[39m\u001b[32m~/Dev/cv-proj2/.venv/lib/python3.12/site-packages/torch/nn/modules/module.py:1044\u001b[39m, in \u001b[36mModule.apply\u001b[39m\u001b[34m(self, fn)\u001b[39m\n\u001b[32m   1008\u001b[39m \u001b[38;5;250m\u001b[39m\u001b[33mr\u001b[39m\u001b[33;03m\"\"\"Apply ``fn`` recursively to every submodule (as returned by ``.children()``) as well as self.\u001b[39;00m\n\u001b[32m   1009\u001b[39m \n\u001b[32m   1010\u001b[39m \u001b[33;03mTypical use includes initializing the parameters of a model\u001b[39;00m\n\u001b[32m   (...)\u001b[39m\u001b[32m   1041\u001b[39m \n\u001b[32m   1042\u001b[39m \u001b[33;03m\"\"\"\u001b[39;00m\n\u001b[32m   1043\u001b[39m \u001b[38;5;28;01mfor\u001b[39;00m module \u001b[38;5;129;01min\u001b[39;00m \u001b[38;5;28mself\u001b[39m.children():\n\u001b[32m-> \u001b[39m\u001b[32m1044\u001b[39m     \u001b[43mmodule\u001b[49m\u001b[43m.\u001b[49m\u001b[43mapply\u001b[49m\u001b[43m(\u001b[49m\u001b[43mfn\u001b[49m\u001b[43m)\u001b[49m\n\u001b[32m   1045\u001b[39m fn(\u001b[38;5;28mself\u001b[39m)\n\u001b[32m   1046\u001b[39m \u001b[38;5;28;01mreturn\u001b[39;00m \u001b[38;5;28mself\u001b[39m\n",
      "\u001b[36mFile \u001b[39m\u001b[32m~/Dev/cv-proj2/.venv/lib/python3.12/site-packages/torch/nn/modules/module.py:1045\u001b[39m, in \u001b[36mModule.apply\u001b[39m\u001b[34m(self, fn)\u001b[39m\n\u001b[32m   1043\u001b[39m \u001b[38;5;28;01mfor\u001b[39;00m module \u001b[38;5;129;01min\u001b[39;00m \u001b[38;5;28mself\u001b[39m.children():\n\u001b[32m   1044\u001b[39m     module.apply(fn)\n\u001b[32m-> \u001b[39m\u001b[32m1045\u001b[39m \u001b[43mfn\u001b[49m\u001b[43m(\u001b[49m\u001b[38;5;28;43mself\u001b[39;49m\u001b[43m)\u001b[49m\n\u001b[32m   1046\u001b[39m \u001b[38;5;28;01mreturn\u001b[39;00m \u001b[38;5;28mself\u001b[39m\n",
      "\u001b[36mFile \u001b[39m\u001b[32m~/Dev/cv-proj2/notebooks/../src/modules/model.py:319\u001b[39m, in \u001b[36mViT._init_weights\u001b[39m\u001b[34m(self, module)\u001b[39m\n\u001b[32m    317\u001b[39m \u001b[38;5;28;01mdef\u001b[39;00m\u001b[38;5;250m \u001b[39m\u001b[34m_init_weights\u001b[39m(\u001b[38;5;28mself\u001b[39m, module):\n\u001b[32m    318\u001b[39m     \u001b[38;5;28;01mif\u001b[39;00m \u001b[38;5;28misinstance\u001b[39m(module, (nn.Linear, nn.Conv2d)):\n\u001b[32m--> \u001b[39m\u001b[32m319\u001b[39m         torch.nn.init.normal_(module.weight, mean=\u001b[32m0.0\u001b[39m, std=\u001b[38;5;28;43mself\u001b[39;49m\u001b[43m.\u001b[49m\u001b[43mconfig\u001b[49m\u001b[43m[\u001b[49m\u001b[33;43m\"\u001b[39;49m\u001b[33;43minitializer_range\u001b[39;49m\u001b[33;43m\"\u001b[39;49m\u001b[43m]\u001b[49m)\n\u001b[32m    320\u001b[39m         \u001b[38;5;28;01mif\u001b[39;00m module.bias \u001b[38;5;129;01mis\u001b[39;00m \u001b[38;5;129;01mnot\u001b[39;00m \u001b[38;5;28;01mNone\u001b[39;00m:\n\u001b[32m    321\u001b[39m             torch.nn.init.zeros_(module.bias)\n",
      "\u001b[31mKeyError\u001b[39m: 'initializer_range'"
     ]
    }
   ],
   "source": [
    "importlib.reload(model)\n",
    "config = {\n",
    "    \"patch_size\": 8,\n",
    "    \"hidden_size\": 48,\n",
    "    \"num_hidden_layers\": 4,\n",
    "    \"num_attention_heads\": 4,\n",
    "    \"intermediate_size\": 4 * 48,\n",
    "    \"hidden_dropout_prob\": 0.0,\n",
    "    \"attention_probs_dropout_prob\": 0.0,\n",
    "    \"initializer_range\": 0.02,\n",
    "    \"image_size\": 32,\n",
    "    \"num_classes\": 10,\n",
    "    \"num_channels\": 3,\n",
    "    \"qkv_bias\": True,\n",
    "}\n",
    "# embedding = model.Embeddings(config)\n",
    "# x = embedding(batch[0])\n",
    "# single = model.AttentionHead(1000, 10, 0.1)\n",
    "# single(x)\n",
    "# multi = model.MultiHeadAttention(config)\n",
    "# multi(x, output_attentions = True)\n",
    "# encoder = model.Encoder(config)\n",
    "# encoder(x)\n",
    "vit = model.ViT(config)\n",
    "vit(batch[0], False)"
   ]
  },
  {
   "cell_type": "code",
   "execution_count": null,
   "metadata": {},
   "outputs": [],
   "source": []
  }
 ],
 "metadata": {
  "kernelspec": {
   "display_name": "ml-venv-cpu",
   "language": "python",
   "name": "python3"
  },
  "language_info": {
   "codemirror_mode": {
    "name": "ipython",
    "version": 3
   },
   "file_extension": ".py",
   "mimetype": "text/x-python",
   "name": "python",
   "nbconvert_exporter": "python",
   "pygments_lexer": "ipython3",
   "version": "3.12.3"
  }
 },
 "nbformat": 4,
 "nbformat_minor": 2
}
